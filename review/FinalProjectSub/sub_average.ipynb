{
 "cells": [
  {
   "cell_type": "code",
   "execution_count": 2,
   "metadata": {
    "colab": {
     "autoexec": {
      "startup": false,
      "wait_interval": 0
     }
    },
    "colab_type": "code",
    "id": "BHzqUfnQdFoH"
   },
   "outputs": [],
   "source": [
    "sub_file_name = \"../submission/sub_180803_Ensemble_1.csv\""
   ]
  },
  {
   "cell_type": "code",
   "execution_count": 14,
   "metadata": {},
   "outputs": [],
   "source": [
    "input_path = \"../submission/\"\n",
    "file_name_list = [\"sub_180803_03.csv\", \n",
    "                  \"sub_180803_03_seed2_mcs8.csv\",\n",
    "                  \"sub_180803_03_seed3_mcs10.csv\",\n",
    "                  \"sub_180803_03_seed4_mcs7.csv\",\n",
    "                  \"sub_180803_03_seed5_mcs11.csv\"\n",
    "                 ]\n",
    "target_name = \"item_cnt_month\""
   ]
  },
  {
   "cell_type": "markdown",
   "metadata": {
    "colab_type": "text",
    "id": "v5Ds5eaLOscb"
   },
   "source": [
    "### Install"
   ]
  },
  {
   "cell_type": "code",
   "execution_count": 4,
   "metadata": {
    "cellView": "code",
    "colab": {
     "autoexec": {
      "startup": false,
      "wait_interval": 0
     },
     "base_uri": "https://localhost:8080/",
     "height": 105
    },
    "colab_type": "code",
    "executionInfo": {
     "elapsed": 1934,
     "status": "ok",
     "timestamp": 1528724681964,
     "user": {
      "displayName": "大田哲也",
      "photoUrl": "//lh5.googleusercontent.com/-0PifLtf2QO0/AAAAAAAAAAI/AAAAAAAAACk/OHV07xvDaek/s50-c-k-no/photo.jpg",
      "userId": "113858368008426765001"
     },
     "user_tz": -540
    },
    "id": "uqY17CDPOZWt",
    "outputId": "2fa9a374-c074-430a-f2a6-bf9b6cef2599"
   },
   "outputs": [],
   "source": [
    "### ver 180526\n",
    "import time\n",
    "\n",
    "import numpy as np\n",
    "import pandas as pd\n",
    "import os\n",
    "import gc\n",
    "\n",
    "#Viz\n",
    "import seaborn as sns\n",
    "import matplotlib.pyplot as plt\n",
    "\n",
    "notebookstart = time.time()"
   ]
  },
  {
   "cell_type": "markdown",
   "metadata": {
    "colab_type": "text",
    "id": "1dpPH6CWRC1t"
   },
   "source": [
    "### Cal Ave"
   ]
  },
  {
   "cell_type": "code",
   "execution_count": 21,
   "metadata": {},
   "outputs": [
    {
     "name": "stdout",
     "output_type": "stream",
     "text": [
      "df Shape:(214200, 3), df columns:Index(['item_cnt_month0', 'ID', 'item_cnt_month1'], dtype='object')\n",
      "df Shape:(214200, 4), df columns:Index(['item_cnt_month0', 'ID', 'item_cnt_month1', 'item_cnt_month2'], dtype='object')\n",
      "df Shape:(214200, 5), df columns:Index(['item_cnt_month0', 'ID', 'item_cnt_month1', 'item_cnt_month2',\n",
      "       'item_cnt_month3'],\n",
      "      dtype='object')\n",
      "df Shape:(214200, 6), df columns:Index(['item_cnt_month0', 'ID', 'item_cnt_month1', 'item_cnt_month2',\n",
      "       'item_cnt_month3', 'item_cnt_month4'],\n",
      "      dtype='object')\n"
     ]
    }
   ],
   "source": [
    "df = pd.DataFrame()\n",
    "\n",
    "for i, file in enumerate(file_name_list):\n",
    "    temp_df = pd.read_csv(input_path + file)\n",
    "    temp_df.rename(columns={target_name:target_name+str(i)}, inplace=True)\n",
    "    \n",
    "    if df.shape[0] == 0:\n",
    "        df = temp_df\n",
    "    else:\n",
    "        df = pd.merge(df, temp_df, how=\"left\", on =\"ID\")\n",
    "        print(\"df Shape:{}, df columns:{}\".format(df.shape, df.columns))"
   ]
  },
  {
   "cell_type": "code",
   "execution_count": 22,
   "metadata": {},
   "outputs": [
    {
     "data": {
      "text/html": [
       "<div>\n",
       "<style scoped>\n",
       "    .dataframe tbody tr th:only-of-type {\n",
       "        vertical-align: middle;\n",
       "    }\n",
       "\n",
       "    .dataframe tbody tr th {\n",
       "        vertical-align: top;\n",
       "    }\n",
       "\n",
       "    .dataframe thead th {\n",
       "        text-align: right;\n",
       "    }\n",
       "</style>\n",
       "<table border=\"1\" class=\"dataframe\">\n",
       "  <thead>\n",
       "    <tr style=\"text-align: right;\">\n",
       "      <th></th>\n",
       "      <th>item_cnt_month0</th>\n",
       "      <th>item_cnt_month1</th>\n",
       "      <th>item_cnt_month2</th>\n",
       "      <th>item_cnt_month3</th>\n",
       "      <th>item_cnt_month4</th>\n",
       "      <th>item_cnt_month</th>\n",
       "    </tr>\n",
       "    <tr>\n",
       "      <th>ID</th>\n",
       "      <th></th>\n",
       "      <th></th>\n",
       "      <th></th>\n",
       "      <th></th>\n",
       "      <th></th>\n",
       "      <th></th>\n",
       "    </tr>\n",
       "  </thead>\n",
       "  <tbody>\n",
       "    <tr>\n",
       "      <th>0</th>\n",
       "      <td>0.758708</td>\n",
       "      <td>0.821824</td>\n",
       "      <td>0.733160</td>\n",
       "      <td>0.918653</td>\n",
       "      <td>0.796614</td>\n",
       "      <td>0.805792</td>\n",
       "    </tr>\n",
       "    <tr>\n",
       "      <th>1</th>\n",
       "      <td>0.024335</td>\n",
       "      <td>0.086717</td>\n",
       "      <td>0.157448</td>\n",
       "      <td>0.195756</td>\n",
       "      <td>0.009448</td>\n",
       "      <td>0.094741</td>\n",
       "    </tr>\n",
       "    <tr>\n",
       "      <th>2</th>\n",
       "      <td>0.931585</td>\n",
       "      <td>0.904460</td>\n",
       "      <td>0.821043</td>\n",
       "      <td>1.000458</td>\n",
       "      <td>0.963168</td>\n",
       "      <td>0.924143</td>\n",
       "    </tr>\n",
       "    <tr>\n",
       "      <th>3</th>\n",
       "      <td>0.347202</td>\n",
       "      <td>0.380542</td>\n",
       "      <td>0.293978</td>\n",
       "      <td>0.326092</td>\n",
       "      <td>0.289759</td>\n",
       "      <td>0.327515</td>\n",
       "    </tr>\n",
       "    <tr>\n",
       "      <th>4</th>\n",
       "      <td>0.993433</td>\n",
       "      <td>1.207848</td>\n",
       "      <td>1.013102</td>\n",
       "      <td>1.176489</td>\n",
       "      <td>1.124691</td>\n",
       "      <td>1.103113</td>\n",
       "    </tr>\n",
       "  </tbody>\n",
       "</table>\n",
       "</div>"
      ],
      "text/plain": [
       "    item_cnt_month0  item_cnt_month1  item_cnt_month2  item_cnt_month3  \\\n",
       "ID                                                                       \n",
       "0          0.758708         0.821824         0.733160         0.918653   \n",
       "1          0.024335         0.086717         0.157448         0.195756   \n",
       "2          0.931585         0.904460         0.821043         1.000458   \n",
       "3          0.347202         0.380542         0.293978         0.326092   \n",
       "4          0.993433         1.207848         1.013102         1.176489   \n",
       "\n",
       "    item_cnt_month4  item_cnt_month  \n",
       "ID                                   \n",
       "0          0.796614        0.805792  \n",
       "1          0.009448        0.094741  \n",
       "2          0.963168        0.924143  \n",
       "3          0.289759        0.327515  \n",
       "4          1.124691        1.103113  "
      ]
     },
     "execution_count": 22,
     "metadata": {},
     "output_type": "execute_result"
    }
   ],
   "source": [
    "df.set_index(\"ID\", inplace=True)\n",
    "df[target_name] = df.mean(axis=1)\n",
    "df.head()"
   ]
  },
  {
   "cell_type": "code",
   "execution_count": 34,
   "metadata": {},
   "outputs": [
    {
     "data": {
      "text/html": [
       "<div>\n",
       "<style scoped>\n",
       "    .dataframe tbody tr th:only-of-type {\n",
       "        vertical-align: middle;\n",
       "    }\n",
       "\n",
       "    .dataframe tbody tr th {\n",
       "        vertical-align: top;\n",
       "    }\n",
       "\n",
       "    .dataframe thead th {\n",
       "        text-align: right;\n",
       "    }\n",
       "</style>\n",
       "<table border=\"1\" class=\"dataframe\">\n",
       "  <thead>\n",
       "    <tr style=\"text-align: right;\">\n",
       "      <th></th>\n",
       "      <th>item_cnt_month</th>\n",
       "    </tr>\n",
       "    <tr>\n",
       "      <th>ID</th>\n",
       "      <th></th>\n",
       "    </tr>\n",
       "  </thead>\n",
       "  <tbody>\n",
       "    <tr>\n",
       "      <th>0</th>\n",
       "      <td>0.805792</td>\n",
       "    </tr>\n",
       "    <tr>\n",
       "      <th>1</th>\n",
       "      <td>0.094741</td>\n",
       "    </tr>\n",
       "    <tr>\n",
       "      <th>2</th>\n",
       "      <td>0.924143</td>\n",
       "    </tr>\n",
       "    <tr>\n",
       "      <th>3</th>\n",
       "      <td>0.327515</td>\n",
       "    </tr>\n",
       "    <tr>\n",
       "      <th>4</th>\n",
       "      <td>1.103113</td>\n",
       "    </tr>\n",
       "  </tbody>\n",
       "</table>\n",
       "</div>"
      ],
      "text/plain": [
       "    item_cnt_month\n",
       "ID                \n",
       "0         0.805792\n",
       "1         0.094741\n",
       "2         0.924143\n",
       "3         0.327515\n",
       "4         1.103113"
      ]
     },
     "execution_count": 34,
     "metadata": {},
     "output_type": "execute_result"
    }
   ],
   "source": [
    "drop_list = df.columns.tolist()\n",
    "drop_list.remove(target_name)\n",
    "df.drop(drop_list, axis=1, inplace=True)\n",
    "df.head()"
   ]
  },
  {
   "cell_type": "markdown",
   "metadata": {
    "colab_type": "text",
    "id": "N-cT8G-rooHH"
   },
   "source": [
    "### Output"
   ]
  },
  {
   "cell_type": "code",
   "execution_count": 35,
   "metadata": {
    "colab": {
     "autoexec": {
      "startup": false,
      "wait_interval": 0
     },
     "base_uri": "https://localhost:8080/",
     "height": 236
    },
    "colab_type": "code",
    "executionInfo": {
     "elapsed": 2511,
     "status": "error",
     "timestamp": 1528654413349,
     "user": {
      "displayName": "大田哲也",
      "photoUrl": "//lh5.googleusercontent.com/-0PifLtf2QO0/AAAAAAAAAAI/AAAAAAAAACk/OHV07xvDaek/s50-c-k-no/photo.jpg",
      "userId": "113858368008426765001"
     },
     "user_tz": -540
    },
    "id": "NsvDY8kHo-eB",
    "outputId": "90d1c8e2-66aa-443d-eaa7-691f93ad28ce"
   },
   "outputs": [],
   "source": [
    "df.to_csv(sub_file_name, index=True, header=True)"
   ]
  }
 ],
 "metadata": {
  "accelerator": "GPU",
  "colab": {
   "collapsed_sections": [],
   "default_view": {},
   "name": "180610_02.ipynb",
   "provenance": [
    {
     "file_id": "1HvSHphea24vtPQlj_fe7TfgnnwfBthAf",
     "timestamp": 1528724527590
    }
   ],
   "version": "0.3.2",
   "views": {}
  },
  "kernelspec": {
   "display_name": "Python 3",
   "language": "python",
   "name": "python3"
  },
  "language_info": {
   "codemirror_mode": {
    "name": "ipython",
    "version": 3
   },
   "file_extension": ".py",
   "mimetype": "text/x-python",
   "name": "python",
   "nbconvert_exporter": "python",
   "pygments_lexer": "ipython3",
   "version": "3.6.5"
  }
 },
 "nbformat": 4,
 "nbformat_minor": 2
}
