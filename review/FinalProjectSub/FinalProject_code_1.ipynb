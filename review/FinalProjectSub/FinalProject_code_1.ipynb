{
 "cells": [
  {
   "cell_type": "code",
   "execution_count": 1,
   "metadata": {
    "collapsed": true
   },
   "outputs": [],
   "source": [
    "sub_file_name = \"../submission/sub_180803_03.csv\"\n",
    "save_model_name = \"../output/trained_model_180803_01.txt\"\n",
    "save_sub_train_df_name = \"../output/sub_train_df.csv\"\n",
    "save_sub_test_df_name = \"../output/sub_test_df.csv\"\n",
    "\n",
    "SEED = 1\n",
    "isValid = False # if False , create train-test data for submission or train for submission \n",
    "isHyperOpt = False \n",
    "useTrainedModel = True \n",
    "split_date = 32\n",
    "\n",
    "if isHyperOpt:\n",
    "    isValid =True"
   ]
  },
  {
   "cell_type": "code",
   "execution_count": 2,
   "metadata": {
    "collapsed": true
   },
   "outputs": [],
   "source": [
    "### ver 180723\n",
    "import time\n",
    "\n",
    "import numpy as np\n",
    "import pandas as pd\n",
    "import os\n",
    "import gc\n",
    "from datetime import datetime\n",
    "import copy\n",
    "from itertools import product\n",
    "\n",
    "# Models Packages\n",
    "from sklearn import metrics\n",
    "from sklearn.metrics import mean_squared_error\n",
    "from sklearn import feature_selection\n",
    "from sklearn.model_selection import train_test_split\n",
    "from sklearn import preprocessing\n",
    "from math import sqrt\n",
    "from io import StringIO\n",
    "from sklearn.model_selection import KFold\n",
    "\n",
    "import hyperopt\n",
    "from hyperopt import hp, tpe, Trials, fmin\n",
    "\n",
    "# Gradient Boosting\n",
    "import lightgbm as lgb\n",
    "from sklearn.linear_model import Ridge\n",
    "\n",
    "#Viz\n",
    "#import seaborn as sns\n",
    "#import re\n",
    "import matplotlib.pyplot as plt\n",
    "%matplotlib inline\n",
    "import string\n",
    "from matplotlib.ticker import *\n",
    "\n",
    "notebookstart = time.time()"
   ]
  },
  {
   "cell_type": "code",
   "execution_count": 3,
   "metadata": {},
   "outputs": [
    {
     "name": "stdout",
     "output_type": "stream",
     "text": [
      "numpy 1.14.3\n",
      "pandas 0.23.0\n",
      "hyperopt 0.1\n",
      "lightgbm 2.1.2\n"
     ]
    }
   ],
   "source": [
    "for p in [np, pd, hyperopt, lgb]:\n",
    "    print (p.__name__, p.__version__)\n",
    "\n",
    "# My version\n",
    "#numpy 1.14.3\n",
    "#pandas 0.23.0\n",
    "#hyperopt 0.1\n",
    "#lightgbm 2.1.2\n",
    "#To use hyperotp, networkx version should be networkx==1.11"
   ]
  },
  {
   "cell_type": "markdown",
   "metadata": {},
   "source": [
    "### - Function"
   ]
  },
  {
   "cell_type": "code",
   "execution_count": 4,
   "metadata": {
    "collapsed": true
   },
   "outputs": [],
   "source": [
    "# Thanks You Guillaume Martin for the Awesome Memory Optimizer!\n",
    "# https://www.kaggle.com/gemartin/load-data-reduce-memory-usage\n",
    "def reduce_mem_usage2(df):\n",
    "    \"\"\" iterate through all the columns of a dataframe and modify the data type\n",
    "        to reduce memory usage.        \n",
    "    \"\"\"\n",
    "    start_mem = df.memory_usage().sum() / 1024**2\n",
    "    print('Memory usage of dataframe is {:.2f} MB'.format(start_mem))\n",
    "    \n",
    "    for col in df.columns:\n",
    "        col_type = df[col].dtype\n",
    "        \n",
    "        if col_type != object:\n",
    "            c_min = df[col].min()\n",
    "            c_max = df[col].max()\n",
    "            if str(col_type)[:3] == 'int':\n",
    "                if c_min > np.iinfo(np.int8).min and c_max < np.iinfo(np.int8).max:\n",
    "                    df[col] = df[col].astype(np.int8)\n",
    "                elif c_min > np.iinfo(np.int16).min and c_max < np.iinfo(np.int16).max:\n",
    "                    df[col] = df[col].astype(np.int16)\n",
    "                elif c_min > np.iinfo(np.int32).min and c_max < np.iinfo(np.int32).max:\n",
    "                    df[col] = df[col].astype(np.int32)\n",
    "                elif c_min > np.iinfo(np.int64).min and c_max < np.iinfo(np.int64).max:\n",
    "                    df[col] = df[col].astype(np.int64)  \n",
    "            else:\n",
    "                df[col] = df[col].astype(np.float16)\n",
    "        else: df[col] = df[col].astype('category')\n",
    "\n",
    "    end_mem = df.memory_usage().sum() / 1024**2\n",
    "    print('Memory usage after optimization is: {:.2f} MB'.format(end_mem))\n",
    "    print('Decreased by {:.1f}%'.format(100 * (start_mem - end_mem) / start_mem))\n",
    "    \n",
    "    return df"
   ]
  },
  {
   "cell_type": "markdown",
   "metadata": {},
   "source": [
    "### - DataLoad"
   ]
  },
  {
   "cell_type": "code",
   "execution_count": 5,
   "metadata": {
    "collapsed": true
   },
   "outputs": [],
   "source": [
    "train = pd.read_csv(\"../input/sales_train.csv\")\n",
    "train[\"date\"] = train[\"date\"].map(lambda x: datetime.strptime(x, '%d.%m.%Y'))\n",
    "test = pd.read_csv(\"../input/test.csv\", index_col = \"ID\")\n",
    "\n",
    "sample_sub = pd.read_csv(\"../input/sample_submission.csv\")\n",
    "item_cate = pd.read_csv(\"../input/item_categories.csv\")\n",
    "items = pd.read_csv(\"../input/items.csv\")\n",
    "shops = pd.read_csv(\"../input/shops.csv\")"
   ]
  },
  {
   "cell_type": "markdown",
   "metadata": {},
   "source": [
    "### - Observation"
   ]
  },
  {
   "cell_type": "code",
   "execution_count": 6,
   "metadata": {},
   "outputs": [
    {
     "data": {
      "text/html": [
       "<div>\n",
       "<style scoped>\n",
       "    .dataframe tbody tr th:only-of-type {\n",
       "        vertical-align: middle;\n",
       "    }\n",
       "\n",
       "    .dataframe tbody tr th {\n",
       "        vertical-align: top;\n",
       "    }\n",
       "\n",
       "    .dataframe thead th {\n",
       "        text-align: right;\n",
       "    }\n",
       "</style>\n",
       "<table border=\"1\" class=\"dataframe\">\n",
       "  <thead>\n",
       "    <tr style=\"text-align: right;\">\n",
       "      <th></th>\n",
       "      <th>date_block_num</th>\n",
       "      <th>shop_id</th>\n",
       "      <th>item_id</th>\n",
       "      <th>item_price</th>\n",
       "      <th>item_cnt_day</th>\n",
       "    </tr>\n",
       "  </thead>\n",
       "  <tbody>\n",
       "    <tr>\n",
       "      <th>count</th>\n",
       "      <td>2.935849e+06</td>\n",
       "      <td>2.935849e+06</td>\n",
       "      <td>2.935849e+06</td>\n",
       "      <td>2.935849e+06</td>\n",
       "      <td>2.935849e+06</td>\n",
       "    </tr>\n",
       "    <tr>\n",
       "      <th>mean</th>\n",
       "      <td>1.456991e+01</td>\n",
       "      <td>3.300173e+01</td>\n",
       "      <td>1.019723e+04</td>\n",
       "      <td>8.908532e+02</td>\n",
       "      <td>1.242641e+00</td>\n",
       "    </tr>\n",
       "    <tr>\n",
       "      <th>std</th>\n",
       "      <td>9.422988e+00</td>\n",
       "      <td>1.622697e+01</td>\n",
       "      <td>6.324297e+03</td>\n",
       "      <td>1.729800e+03</td>\n",
       "      <td>2.618834e+00</td>\n",
       "    </tr>\n",
       "    <tr>\n",
       "      <th>min</th>\n",
       "      <td>0.000000e+00</td>\n",
       "      <td>0.000000e+00</td>\n",
       "      <td>0.000000e+00</td>\n",
       "      <td>-1.000000e+00</td>\n",
       "      <td>-2.200000e+01</td>\n",
       "    </tr>\n",
       "    <tr>\n",
       "      <th>25%</th>\n",
       "      <td>7.000000e+00</td>\n",
       "      <td>2.200000e+01</td>\n",
       "      <td>4.476000e+03</td>\n",
       "      <td>2.490000e+02</td>\n",
       "      <td>1.000000e+00</td>\n",
       "    </tr>\n",
       "    <tr>\n",
       "      <th>50%</th>\n",
       "      <td>1.400000e+01</td>\n",
       "      <td>3.100000e+01</td>\n",
       "      <td>9.343000e+03</td>\n",
       "      <td>3.990000e+02</td>\n",
       "      <td>1.000000e+00</td>\n",
       "    </tr>\n",
       "    <tr>\n",
       "      <th>75%</th>\n",
       "      <td>2.300000e+01</td>\n",
       "      <td>4.700000e+01</td>\n",
       "      <td>1.568400e+04</td>\n",
       "      <td>9.990000e+02</td>\n",
       "      <td>1.000000e+00</td>\n",
       "    </tr>\n",
       "    <tr>\n",
       "      <th>max</th>\n",
       "      <td>3.300000e+01</td>\n",
       "      <td>5.900000e+01</td>\n",
       "      <td>2.216900e+04</td>\n",
       "      <td>3.079800e+05</td>\n",
       "      <td>2.169000e+03</td>\n",
       "    </tr>\n",
       "  </tbody>\n",
       "</table>\n",
       "</div>"
      ],
      "text/plain": [
       "       date_block_num       shop_id       item_id    item_price  item_cnt_day\n",
       "count    2.935849e+06  2.935849e+06  2.935849e+06  2.935849e+06  2.935849e+06\n",
       "mean     1.456991e+01  3.300173e+01  1.019723e+04  8.908532e+02  1.242641e+00\n",
       "std      9.422988e+00  1.622697e+01  6.324297e+03  1.729800e+03  2.618834e+00\n",
       "min      0.000000e+00  0.000000e+00  0.000000e+00 -1.000000e+00 -2.200000e+01\n",
       "25%      7.000000e+00  2.200000e+01  4.476000e+03  2.490000e+02  1.000000e+00\n",
       "50%      1.400000e+01  3.100000e+01  9.343000e+03  3.990000e+02  1.000000e+00\n",
       "75%      2.300000e+01  4.700000e+01  1.568400e+04  9.990000e+02  1.000000e+00\n",
       "max      3.300000e+01  5.900000e+01  2.216900e+04  3.079800e+05  2.169000e+03"
      ]
     },
     "execution_count": 6,
     "metadata": {},
     "output_type": "execute_result"
    }
   ],
   "source": [
    "train.describe()"
   ]
  },
  {
   "cell_type": "code",
   "execution_count": 7,
   "metadata": {},
   "outputs": [
    {
     "name": "stdout",
     "output_type": "stream",
     "text": [
      "Train Shape:  (2935849, 6)\n",
      "Test Shape:  (214200, 2)\n",
      "Sample Submission:  (214200, 2)\n",
      "Test/Train Ratio: 7.3%\n"
     ]
    }
   ],
   "source": [
    "print(\"Train Shape: \", train.shape)\n",
    "print(\"Test Shape: \", test.shape)\n",
    "print(\"Sample Submission: \", sample_sub.shape)\n",
    "print(\"Test/Train Ratio: {:.1f}%\".format(test.shape[0]/train.shape[0] * 100))"
   ]
  },
  {
   "cell_type": "code",
   "execution_count": 8,
   "metadata": {},
   "outputs": [
    {
     "name": "stdout",
     "output_type": "stream",
     "text": [
      "Train item_id:  21807\n",
      "Test item_id:  5100\n",
      "Test /Train item_id Ratio: 23.39%\n",
      "Train shop_id:  60\n",
      "Test shop_id:  42\n",
      "Test /Train item_id Ratio: 70.00%\n"
     ]
    }
   ],
   "source": [
    "# Test item_id is a part of all item_id.\n",
    "# Test shop_id is also.\n",
    "# So, I think that it is good to use only test item_id & shop_id for validation.\n",
    "\n",
    "ntrain_i = train[\"item_id\"].nunique()\n",
    "ntest_i = test[\"item_id\"].nunique()\n",
    "print(\"Train item_id: \", ntrain_i)\n",
    "print(\"Test item_id: \", ntest_i)\n",
    "print(\"Test /Train item_id Ratio: {:.2f}%\".format(ntest_i/ntrain_i * 100))\n",
    "\n",
    "ntrain_s = train[\"shop_id\"].nunique()\n",
    "ntest_s = test[\"shop_id\"].nunique()\n",
    "print(\"Train shop_id: \", ntrain_s)\n",
    "print(\"Test shop_id: \", ntest_s)\n",
    "print(\"Test /Train item_id Ratio: {:.2f}%\".format(ntest_s/ntrain_s * 100))"
   ]
  },
  {
   "cell_type": "code",
   "execution_count": 9,
   "metadata": {
    "scrolled": true
   },
   "outputs": [
    {
     "name": "stdout",
     "output_type": "stream",
     "text": [
      "Item Category Shape:  (84, 2)\n",
      "Items Shape:  (22170, 3)\n",
      "Shops:  (60, 2)\n"
     ]
    }
   ],
   "source": [
    "print(\"Item Category Shape: \", item_cate.shape)\n",
    "print(\"Items Shape: \", items.shape)\n",
    "print(\"Shops: \", shops.shape)"
   ]
  },
  {
   "cell_type": "markdown",
   "metadata": {},
   "source": [
    "### - Item Category & Item"
   ]
  },
  {
   "cell_type": "code",
   "execution_count": 10,
   "metadata": {},
   "outputs": [
    {
     "name": "stdout",
     "output_type": "stream",
     "text": [
      "item_cate shape:  (84, 4)\n",
      "Number of First Category:  20\n",
      "NUmber of Second Category:  67\n"
     ]
    },
    {
     "data": {
      "text/html": [
       "<div>\n",
       "<style scoped>\n",
       "    .dataframe tbody tr th:only-of-type {\n",
       "        vertical-align: middle;\n",
       "    }\n",
       "\n",
       "    .dataframe tbody tr th {\n",
       "        vertical-align: top;\n",
       "    }\n",
       "\n",
       "    .dataframe thead th {\n",
       "        text-align: right;\n",
       "    }\n",
       "</style>\n",
       "<table border=\"1\" class=\"dataframe\">\n",
       "  <thead>\n",
       "    <tr style=\"text-align: right;\">\n",
       "      <th></th>\n",
       "      <th>item_category_name</th>\n",
       "      <th>item_category_id</th>\n",
       "      <th>first_cate</th>\n",
       "      <th>second_cate</th>\n",
       "    </tr>\n",
       "  </thead>\n",
       "  <tbody>\n",
       "    <tr>\n",
       "      <th>0</th>\n",
       "      <td>PC - Гарнитуры/Наушники</td>\n",
       "      <td>0</td>\n",
       "      <td>PC</td>\n",
       "      <td>Гарнитуры/Наушники</td>\n",
       "    </tr>\n",
       "    <tr>\n",
       "      <th>1</th>\n",
       "      <td>Аксессуары - PS2</td>\n",
       "      <td>1</td>\n",
       "      <td>Аксессуары</td>\n",
       "      <td>PS2</td>\n",
       "    </tr>\n",
       "    <tr>\n",
       "      <th>2</th>\n",
       "      <td>Аксессуары - PS3</td>\n",
       "      <td>2</td>\n",
       "      <td>Аксессуары</td>\n",
       "      <td>PS3</td>\n",
       "    </tr>\n",
       "    <tr>\n",
       "      <th>3</th>\n",
       "      <td>Аксессуары - PS4</td>\n",
       "      <td>3</td>\n",
       "      <td>Аксессуары</td>\n",
       "      <td>PS4</td>\n",
       "    </tr>\n",
       "    <tr>\n",
       "      <th>4</th>\n",
       "      <td>Аксессуары - PSP</td>\n",
       "      <td>4</td>\n",
       "      <td>Аксессуары</td>\n",
       "      <td>PSP</td>\n",
       "    </tr>\n",
       "  </tbody>\n",
       "</table>\n",
       "</div>"
      ],
      "text/plain": [
       "        item_category_name  item_category_id  first_cate         second_cate\n",
       "0  PC - Гарнитуры/Наушники                 0          PC  Гарнитуры/Наушники\n",
       "1         Аксессуары - PS2                 1  Аксессуары                 PS2\n",
       "2         Аксессуары - PS3                 2  Аксессуары                 PS3\n",
       "3         Аксессуары - PS4                 3  Аксессуары                 PS4\n",
       "4         Аксессуары - PSP                 4  Аксессуары                 PSP"
      ]
     },
     "execution_count": 10,
     "metadata": {},
     "output_type": "execute_result"
    }
   ],
   "source": [
    "# Item_category_name can be divided into large(first) classification and small(second) classification.\n",
    "\n",
    "item_cate[\"first_cate\"] = item_cate[\"item_category_name\"].map(lambda x:x.split(\" - \")[0])\n",
    "item_cate[\"second_cate\"] = item_cate[\"item_category_name\"].map(lambda x:x.split(\" - \")[-1])\n",
    "print(\"item_cate shape: \", item_cate.shape)\n",
    "print(\"Number of First Category: \", item_cate[\"first_cate\"].nunique())\n",
    "print(\"NUmber of Second Category: \", item_cate[\"second_cate\"].nunique())\n",
    "item_cate.head()"
   ]
  },
  {
   "cell_type": "code",
   "execution_count": 11,
   "metadata": {
    "collapsed": true
   },
   "outputs": [],
   "source": [
    "items = pd.merge(items, item_cate, how=\"left\", on=\"item_category_id\")"
   ]
  },
  {
   "cell_type": "code",
   "execution_count": 12,
   "metadata": {},
   "outputs": [
    {
     "data": {
      "text/html": [
       "<div>\n",
       "<style scoped>\n",
       "    .dataframe tbody tr th:only-of-type {\n",
       "        vertical-align: middle;\n",
       "    }\n",
       "\n",
       "    .dataframe tbody tr th {\n",
       "        vertical-align: top;\n",
       "    }\n",
       "\n",
       "    .dataframe thead th {\n",
       "        text-align: right;\n",
       "    }\n",
       "</style>\n",
       "<table border=\"1\" class=\"dataframe\">\n",
       "  <thead>\n",
       "    <tr style=\"text-align: right;\">\n",
       "      <th></th>\n",
       "      <th>item_name</th>\n",
       "      <th>item_id</th>\n",
       "      <th>item_category_id</th>\n",
       "      <th>item_category_name</th>\n",
       "      <th>first_cate</th>\n",
       "      <th>second_cate</th>\n",
       "    </tr>\n",
       "  </thead>\n",
       "  <tbody>\n",
       "    <tr>\n",
       "      <th>0</th>\n",
       "      <td>! ВО ВЛАСТИ НАВАЖДЕНИЯ (ПЛАСТ.)         D</td>\n",
       "      <td>0</td>\n",
       "      <td>40</td>\n",
       "      <td>Кино - DVD</td>\n",
       "      <td>Кино</td>\n",
       "      <td>DVD</td>\n",
       "    </tr>\n",
       "    <tr>\n",
       "      <th>1</th>\n",
       "      <td>!ABBYY FineReader 12 Professional Edition Full...</td>\n",
       "      <td>1</td>\n",
       "      <td>76</td>\n",
       "      <td>Программы - Для дома и офиса (Цифра)</td>\n",
       "      <td>Программы</td>\n",
       "      <td>Для дома и офиса (Цифра)</td>\n",
       "    </tr>\n",
       "    <tr>\n",
       "      <th>2</th>\n",
       "      <td>***В ЛУЧАХ СЛАВЫ   (UNV)                    D</td>\n",
       "      <td>2</td>\n",
       "      <td>40</td>\n",
       "      <td>Кино - DVD</td>\n",
       "      <td>Кино</td>\n",
       "      <td>DVD</td>\n",
       "    </tr>\n",
       "    <tr>\n",
       "      <th>3</th>\n",
       "      <td>***ГОЛУБАЯ ВОЛНА  (Univ)                      D</td>\n",
       "      <td>3</td>\n",
       "      <td>40</td>\n",
       "      <td>Кино - DVD</td>\n",
       "      <td>Кино</td>\n",
       "      <td>DVD</td>\n",
       "    </tr>\n",
       "    <tr>\n",
       "      <th>4</th>\n",
       "      <td>***КОРОБКА (СТЕКЛО)                       D</td>\n",
       "      <td>4</td>\n",
       "      <td>40</td>\n",
       "      <td>Кино - DVD</td>\n",
       "      <td>Кино</td>\n",
       "      <td>DVD</td>\n",
       "    </tr>\n",
       "  </tbody>\n",
       "</table>\n",
       "</div>"
      ],
      "text/plain": [
       "                                           item_name  item_id  \\\n",
       "0          ! ВО ВЛАСТИ НАВАЖДЕНИЯ (ПЛАСТ.)         D        0   \n",
       "1  !ABBYY FineReader 12 Professional Edition Full...        1   \n",
       "2      ***В ЛУЧАХ СЛАВЫ   (UNV)                    D        2   \n",
       "3    ***ГОЛУБАЯ ВОЛНА  (Univ)                      D        3   \n",
       "4        ***КОРОБКА (СТЕКЛО)                       D        4   \n",
       "\n",
       "   item_category_id                    item_category_name first_cate  \\\n",
       "0                40                            Кино - DVD       Кино   \n",
       "1                76  Программы - Для дома и офиса (Цифра)  Программы   \n",
       "2                40                            Кино - DVD       Кино   \n",
       "3                40                            Кино - DVD       Кино   \n",
       "4                40                            Кино - DVD       Кино   \n",
       "\n",
       "                second_cate  \n",
       "0                       DVD  \n",
       "1  Для дома и офиса (Цифра)  \n",
       "2                       DVD  \n",
       "3                       DVD  \n",
       "4                       DVD  "
      ]
     },
     "execution_count": 12,
     "metadata": {},
     "output_type": "execute_result"
    }
   ],
   "source": [
    "items.head()"
   ]
  },
  {
   "cell_type": "code",
   "execution_count": 13,
   "metadata": {},
   "outputs": [
    {
     "data": {
      "text/html": [
       "<div>\n",
       "<style scoped>\n",
       "    .dataframe tbody tr th:only-of-type {\n",
       "        vertical-align: middle;\n",
       "    }\n",
       "\n",
       "    .dataframe tbody tr th {\n",
       "        vertical-align: top;\n",
       "    }\n",
       "\n",
       "    .dataframe thead th {\n",
       "        text-align: right;\n",
       "    }\n",
       "</style>\n",
       "<table border=\"1\" class=\"dataframe\">\n",
       "  <thead>\n",
       "    <tr style=\"text-align: right;\">\n",
       "      <th></th>\n",
       "      <th>item_id</th>\n",
       "      <th>item_category_id</th>\n",
       "      <th>first_cate</th>\n",
       "      <th>second_cate</th>\n",
       "    </tr>\n",
       "  </thead>\n",
       "  <tbody>\n",
       "    <tr>\n",
       "      <th>0</th>\n",
       "      <td>0</td>\n",
       "      <td>40</td>\n",
       "      <td>11</td>\n",
       "      <td>6</td>\n",
       "    </tr>\n",
       "    <tr>\n",
       "      <th>1</th>\n",
       "      <td>1</td>\n",
       "      <td>76</td>\n",
       "      <td>15</td>\n",
       "      <td>33</td>\n",
       "    </tr>\n",
       "    <tr>\n",
       "      <th>2</th>\n",
       "      <td>2</td>\n",
       "      <td>40</td>\n",
       "      <td>11</td>\n",
       "      <td>6</td>\n",
       "    </tr>\n",
       "    <tr>\n",
       "      <th>3</th>\n",
       "      <td>3</td>\n",
       "      <td>40</td>\n",
       "      <td>11</td>\n",
       "      <td>6</td>\n",
       "    </tr>\n",
       "    <tr>\n",
       "      <th>4</th>\n",
       "      <td>4</td>\n",
       "      <td>40</td>\n",
       "      <td>11</td>\n",
       "      <td>6</td>\n",
       "    </tr>\n",
       "  </tbody>\n",
       "</table>\n",
       "</div>"
      ],
      "text/plain": [
       "   item_id  item_category_id  first_cate  second_cate\n",
       "0        0                40          11            6\n",
       "1        1                76          15           33\n",
       "2        2                40          11            6\n",
       "3        3                40          11            6\n",
       "4        4                40          11            6"
      ]
     },
     "execution_count": 13,
     "metadata": {},
     "output_type": "execute_result"
    }
   ],
   "source": [
    "lbl = preprocessing.LabelEncoder()\n",
    "for col in [\"first_cate\", \"second_cate\"]:\n",
    "    items[col].fillna(\"Unknown\")\n",
    "    items[col] = lbl.fit_transform(items[col].astype(str))\n",
    "items.drop([\"item_name\", \"item_category_name\"], axis=1, inplace=True)\n",
    "gc.collect()\n",
    "items.head()"
   ]
  },
  {
   "cell_type": "markdown",
   "metadata": {},
   "source": [
    "### - Shops"
   ]
  },
  {
   "cell_type": "code",
   "execution_count": 14,
   "metadata": {
    "collapsed": true
   },
   "outputs": [],
   "source": [
    "shops[\"city\"] = shops[\"shop_name\"].map(lambda x:x.split(\" \")[0])\n",
    "shops[\"store_form\"] = shops[\"shop_name\"].map(lambda x:x.split(\" \")[1])\n",
    "shops[\"shop_store_name\"] = shops[\"shop_name\"].map(lambda x:x.split(\" \")[-1])"
   ]
  },
  {
   "cell_type": "code",
   "execution_count": 15,
   "metadata": {},
   "outputs": [
    {
     "name": "stdout",
     "output_type": "stream",
     "text": [
      "Shops shape:  (60, 5)\n",
      "Number of city:  32\n",
      "NUmber of Store Form:  14\n",
      "NUmber of shop_store_name:  51\n"
     ]
    }
   ],
   "source": [
    "print(\"Shops shape: \", shops.shape)\n",
    "print(\"Number of city: \", shops[\"city\"].nunique())\n",
    "print(\"NUmber of Store Form: \", shops[\"store_form\"].nunique())\n",
    "print(\"NUmber of shop_store_name: \", shops[\"shop_store_name\"].nunique())"
   ]
  },
  {
   "cell_type": "code",
   "execution_count": 16,
   "metadata": {},
   "outputs": [
    {
     "name": "stdout",
     "output_type": "stream",
     "text": [
      "Shop_id 10 Shop_name:  Жуковский ул. Чкалова 39м?\n",
      "Shop_id 11 Shop_name:  Жуковский ул. Чкалова 39м²\n",
      "Shop_id 10 Train:  (21397, 6)\n",
      "Shop_id 11 Train:  (499, 6)\n",
      "Shop_id 10 Test:  (5100, 2)\n",
      "Shop_id 11 Test:  (0, 2)\n"
     ]
    }
   ],
   "source": [
    "### I think that shop_id 10 and 11 is same name. So I made the name of shop_id 11 to shop_id 10.\n",
    "\n",
    "print(\"Shop_id 10 Shop_name: \", shops.iloc[10][\"shop_name\"])\n",
    "print(\"Shop_id 11 Shop_name: \", shops.iloc[11][\"shop_name\"])\n",
    "\n",
    "print(\"Shop_id 10 Train: \", train[(train[\"shop_id\"] == 10)].shape)\n",
    "print(\"Shop_id 11 Train: \", train[(train[\"shop_id\"] == 11)].shape)\n",
    "\n",
    "print(\"Shop_id 10 Test: \", test[(test[\"shop_id\"] == 10)].shape)\n",
    "print(\"Shop_id 11 Test: \", test[(test[\"shop_id\"] == 11)].shape)"
   ]
  },
  {
   "cell_type": "code",
   "execution_count": 17,
   "metadata": {},
   "outputs": [
    {
     "data": {
      "text/html": [
       "<div>\n",
       "<style scoped>\n",
       "    .dataframe tbody tr th:only-of-type {\n",
       "        vertical-align: middle;\n",
       "    }\n",
       "\n",
       "    .dataframe tbody tr th {\n",
       "        vertical-align: top;\n",
       "    }\n",
       "\n",
       "    .dataframe thead th {\n",
       "        text-align: right;\n",
       "    }\n",
       "</style>\n",
       "<table border=\"1\" class=\"dataframe\">\n",
       "  <thead>\n",
       "    <tr style=\"text-align: right;\">\n",
       "      <th></th>\n",
       "      <th>shop_id</th>\n",
       "      <th>city</th>\n",
       "      <th>store_form</th>\n",
       "      <th>shop_store_name</th>\n",
       "    </tr>\n",
       "  </thead>\n",
       "  <tbody>\n",
       "    <tr>\n",
       "      <th>0</th>\n",
       "      <td>0</td>\n",
       "      <td>0</td>\n",
       "      <td>4</td>\n",
       "      <td>50</td>\n",
       "    </tr>\n",
       "    <tr>\n",
       "      <th>1</th>\n",
       "      <td>1</td>\n",
       "      <td>0</td>\n",
       "      <td>9</td>\n",
       "      <td>50</td>\n",
       "    </tr>\n",
       "    <tr>\n",
       "      <th>2</th>\n",
       "      <td>2</td>\n",
       "      <td>1</td>\n",
       "      <td>9</td>\n",
       "      <td>12</td>\n",
       "    </tr>\n",
       "    <tr>\n",
       "      <th>3</th>\n",
       "      <td>3</td>\n",
       "      <td>2</td>\n",
       "      <td>7</td>\n",
       "      <td>14</td>\n",
       "    </tr>\n",
       "    <tr>\n",
       "      <th>4</th>\n",
       "      <td>4</td>\n",
       "      <td>3</td>\n",
       "      <td>9</td>\n",
       "      <td>41</td>\n",
       "    </tr>\n",
       "  </tbody>\n",
       "</table>\n",
       "</div>"
      ],
      "text/plain": [
       "   shop_id  city  store_form  shop_store_name\n",
       "0        0     0           4               50\n",
       "1        1     0           9               50\n",
       "2        2     1           9               12\n",
       "3        3     2           7               14\n",
       "4        4     3           9               41"
      ]
     },
     "execution_count": 17,
     "metadata": {},
     "output_type": "execute_result"
    }
   ],
   "source": [
    "lbl = preprocessing.LabelEncoder()\n",
    "for col in [\"city\", \"store_form\", \"shop_store_name\"]:\n",
    "    shops[col].fillna(\"Unknown\")\n",
    "    shops[col] = lbl.fit_transform(shops[col].astype(str))\n",
    "shops.drop([\"shop_name\"], axis=1, inplace=True)\n",
    "gc.collect()\n",
    "shops.head()"
   ]
  },
  {
   "cell_type": "markdown",
   "metadata": {},
   "source": [
    "### - Train Group"
   ]
  },
  {
   "cell_type": "code",
   "execution_count": 18,
   "metadata": {},
   "outputs": [
    {
     "data": {
      "text/html": [
       "<div>\n",
       "<style scoped>\n",
       "    .dataframe tbody tr th:only-of-type {\n",
       "        vertical-align: middle;\n",
       "    }\n",
       "\n",
       "    .dataframe tbody tr th {\n",
       "        vertical-align: top;\n",
       "    }\n",
       "\n",
       "    .dataframe thead th {\n",
       "        text-align: right;\n",
       "    }\n",
       "</style>\n",
       "<table border=\"1\" class=\"dataframe\">\n",
       "  <thead>\n",
       "    <tr style=\"text-align: right;\">\n",
       "      <th></th>\n",
       "      <th>date_block_num</th>\n",
       "      <th>shop_id</th>\n",
       "      <th>item_id</th>\n",
       "      <th>item_price</th>\n",
       "      <th>item_cnt_day</th>\n",
       "    </tr>\n",
       "  </thead>\n",
       "  <tbody>\n",
       "    <tr>\n",
       "      <th>0</th>\n",
       "      <td>0</td>\n",
       "      <td>59</td>\n",
       "      <td>22154</td>\n",
       "      <td>999.00</td>\n",
       "      <td>1.0</td>\n",
       "    </tr>\n",
       "    <tr>\n",
       "      <th>1</th>\n",
       "      <td>0</td>\n",
       "      <td>25</td>\n",
       "      <td>2552</td>\n",
       "      <td>899.00</td>\n",
       "      <td>1.0</td>\n",
       "    </tr>\n",
       "    <tr>\n",
       "      <th>2</th>\n",
       "      <td>0</td>\n",
       "      <td>25</td>\n",
       "      <td>2552</td>\n",
       "      <td>899.00</td>\n",
       "      <td>-1.0</td>\n",
       "    </tr>\n",
       "    <tr>\n",
       "      <th>3</th>\n",
       "      <td>0</td>\n",
       "      <td>25</td>\n",
       "      <td>2554</td>\n",
       "      <td>1709.05</td>\n",
       "      <td>1.0</td>\n",
       "    </tr>\n",
       "    <tr>\n",
       "      <th>4</th>\n",
       "      <td>0</td>\n",
       "      <td>25</td>\n",
       "      <td>2555</td>\n",
       "      <td>1099.00</td>\n",
       "      <td>1.0</td>\n",
       "    </tr>\n",
       "  </tbody>\n",
       "</table>\n",
       "</div>"
      ],
      "text/plain": [
       "   date_block_num  shop_id  item_id  item_price  item_cnt_day\n",
       "0               0       59    22154      999.00           1.0\n",
       "1               0       25     2552      899.00           1.0\n",
       "2               0       25     2552      899.00          -1.0\n",
       "3               0       25     2554     1709.05           1.0\n",
       "4               0       25     2555     1099.00           1.0"
      ]
     },
     "execution_count": 18,
     "metadata": {},
     "output_type": "execute_result"
    }
   ],
   "source": [
    "train.drop([\"date\"], axis=1, inplace=True)\n",
    "gc.collect()\n",
    "train.head()"
   ]
  },
  {
   "cell_type": "code",
   "execution_count": 19,
   "metadata": {
    "collapsed": true
   },
   "outputs": [],
   "source": [
    "train_gp1 = train.groupby([\"date_block_num\", \"shop_id\", \"item_id\"])\n",
    "\n",
    "item_cnt_month_df = train_gp1.sum()\n",
    "item_cnt_month_df.drop([\"item_price\"], axis=1, inplace=True)\n",
    "item_cnt_month_df.rename(columns={\"item_cnt_day\":\"item_cnt_month\"}, inplace=True)\n",
    "item_cnt_month_df.reset_index(inplace=True)\n",
    "\n",
    "item_price_mean_df = train_gp1.mean()\n",
    "item_price_mean_df.reset_index(inplace=True)\n",
    "item_price_mean_df = item_price_mean_df[[\"date_block_num\", \"shop_id\", \"item_id\", \"item_price\"]]"
   ]
  },
  {
   "cell_type": "code",
   "execution_count": 20,
   "metadata": {},
   "outputs": [
    {
     "data": {
      "text/html": [
       "<div>\n",
       "<style scoped>\n",
       "    .dataframe tbody tr th:only-of-type {\n",
       "        vertical-align: middle;\n",
       "    }\n",
       "\n",
       "    .dataframe tbody tr th {\n",
       "        vertical-align: top;\n",
       "    }\n",
       "\n",
       "    .dataframe thead th {\n",
       "        text-align: right;\n",
       "    }\n",
       "</style>\n",
       "<table border=\"1\" class=\"dataframe\">\n",
       "  <thead>\n",
       "    <tr style=\"text-align: right;\">\n",
       "      <th></th>\n",
       "      <th>date_block_num</th>\n",
       "      <th>shop_id</th>\n",
       "      <th>item_id</th>\n",
       "      <th>item_cnt_month</th>\n",
       "    </tr>\n",
       "  </thead>\n",
       "  <tbody>\n",
       "    <tr>\n",
       "      <th>0</th>\n",
       "      <td>0</td>\n",
       "      <td>0</td>\n",
       "      <td>32</td>\n",
       "      <td>6.0</td>\n",
       "    </tr>\n",
       "    <tr>\n",
       "      <th>1</th>\n",
       "      <td>0</td>\n",
       "      <td>0</td>\n",
       "      <td>33</td>\n",
       "      <td>3.0</td>\n",
       "    </tr>\n",
       "    <tr>\n",
       "      <th>2</th>\n",
       "      <td>0</td>\n",
       "      <td>0</td>\n",
       "      <td>35</td>\n",
       "      <td>1.0</td>\n",
       "    </tr>\n",
       "    <tr>\n",
       "      <th>3</th>\n",
       "      <td>0</td>\n",
       "      <td>0</td>\n",
       "      <td>43</td>\n",
       "      <td>1.0</td>\n",
       "    </tr>\n",
       "    <tr>\n",
       "      <th>4</th>\n",
       "      <td>0</td>\n",
       "      <td>0</td>\n",
       "      <td>51</td>\n",
       "      <td>2.0</td>\n",
       "    </tr>\n",
       "  </tbody>\n",
       "</table>\n",
       "</div>"
      ],
      "text/plain": [
       "   date_block_num  shop_id  item_id  item_cnt_month\n",
       "0               0        0       32             6.0\n",
       "1               0        0       33             3.0\n",
       "2               0        0       35             1.0\n",
       "3               0        0       43             1.0\n",
       "4               0        0       51             2.0"
      ]
     },
     "execution_count": 20,
     "metadata": {},
     "output_type": "execute_result"
    }
   ],
   "source": [
    "item_cnt_month_df.head()"
   ]
  },
  {
   "cell_type": "code",
   "execution_count": 21,
   "metadata": {},
   "outputs": [
    {
     "data": {
      "text/html": [
       "<div>\n",
       "<style scoped>\n",
       "    .dataframe tbody tr th:only-of-type {\n",
       "        vertical-align: middle;\n",
       "    }\n",
       "\n",
       "    .dataframe tbody tr th {\n",
       "        vertical-align: top;\n",
       "    }\n",
       "\n",
       "    .dataframe thead th {\n",
       "        text-align: right;\n",
       "    }\n",
       "</style>\n",
       "<table border=\"1\" class=\"dataframe\">\n",
       "  <thead>\n",
       "    <tr style=\"text-align: right;\">\n",
       "      <th></th>\n",
       "      <th>date_block_num</th>\n",
       "      <th>shop_id</th>\n",
       "      <th>item_id</th>\n",
       "      <th>item_cnt_month</th>\n",
       "      <th>item_price</th>\n",
       "    </tr>\n",
       "  </thead>\n",
       "  <tbody>\n",
       "    <tr>\n",
       "      <th>0</th>\n",
       "      <td>0</td>\n",
       "      <td>0</td>\n",
       "      <td>32</td>\n",
       "      <td>6.0</td>\n",
       "      <td>221.0</td>\n",
       "    </tr>\n",
       "    <tr>\n",
       "      <th>1</th>\n",
       "      <td>0</td>\n",
       "      <td>0</td>\n",
       "      <td>33</td>\n",
       "      <td>3.0</td>\n",
       "      <td>347.0</td>\n",
       "    </tr>\n",
       "    <tr>\n",
       "      <th>2</th>\n",
       "      <td>0</td>\n",
       "      <td>0</td>\n",
       "      <td>35</td>\n",
       "      <td>1.0</td>\n",
       "      <td>247.0</td>\n",
       "    </tr>\n",
       "    <tr>\n",
       "      <th>3</th>\n",
       "      <td>0</td>\n",
       "      <td>0</td>\n",
       "      <td>43</td>\n",
       "      <td>1.0</td>\n",
       "      <td>221.0</td>\n",
       "    </tr>\n",
       "    <tr>\n",
       "      <th>4</th>\n",
       "      <td>0</td>\n",
       "      <td>0</td>\n",
       "      <td>51</td>\n",
       "      <td>2.0</td>\n",
       "      <td>128.5</td>\n",
       "    </tr>\n",
       "  </tbody>\n",
       "</table>\n",
       "</div>"
      ],
      "text/plain": [
       "   date_block_num  shop_id  item_id  item_cnt_month  item_price\n",
       "0               0        0       32             6.0       221.0\n",
       "1               0        0       33             3.0       347.0\n",
       "2               0        0       35             1.0       247.0\n",
       "3               0        0       43             1.0       221.0\n",
       "4               0        0       51             2.0       128.5"
      ]
     },
     "execution_count": 21,
     "metadata": {},
     "output_type": "execute_result"
    }
   ],
   "source": [
    "train_gp = item_cnt_month_df\n",
    "train_gp = pd.merge(train_gp, item_price_mean_df, how=\"left\", on=[\"date_block_num\", \"shop_id\", \"item_id\"])\n",
    "train_gp.head()"
   ]
  },
  {
   "cell_type": "code",
   "execution_count": 22,
   "metadata": {},
   "outputs": [
    {
     "name": "stdout",
     "output_type": "stream",
     "text": [
      "Memory usage of dataframe is 73.66 MB\n",
      "Memory usage after optimization is: 24.55 MB\n",
      "Decreased by 66.7%\n"
     ]
    }
   ],
   "source": [
    "train_gp = reduce_mem_usage2(train_gp)"
   ]
  },
  {
   "cell_type": "markdown",
   "metadata": {},
   "source": [
    "# - Test "
   ]
  },
  {
   "cell_type": "code",
   "execution_count": 23,
   "metadata": {},
   "outputs": [
    {
     "data": {
      "text/html": [
       "<div>\n",
       "<style scoped>\n",
       "    .dataframe tbody tr th:only-of-type {\n",
       "        vertical-align: middle;\n",
       "    }\n",
       "\n",
       "    .dataframe tbody tr th {\n",
       "        vertical-align: top;\n",
       "    }\n",
       "\n",
       "    .dataframe thead th {\n",
       "        text-align: right;\n",
       "    }\n",
       "</style>\n",
       "<table border=\"1\" class=\"dataframe\">\n",
       "  <thead>\n",
       "    <tr style=\"text-align: right;\">\n",
       "      <th></th>\n",
       "      <th>shop_id</th>\n",
       "      <th>item_id</th>\n",
       "      <th>date_block_num</th>\n",
       "      <th>year</th>\n",
       "      <th>month</th>\n",
       "    </tr>\n",
       "    <tr>\n",
       "      <th>ID</th>\n",
       "      <th></th>\n",
       "      <th></th>\n",
       "      <th></th>\n",
       "      <th></th>\n",
       "      <th></th>\n",
       "    </tr>\n",
       "  </thead>\n",
       "  <tbody>\n",
       "    <tr>\n",
       "      <th>0</th>\n",
       "      <td>5</td>\n",
       "      <td>5037</td>\n",
       "      <td>34</td>\n",
       "      <td>2015</td>\n",
       "      <td>11</td>\n",
       "    </tr>\n",
       "    <tr>\n",
       "      <th>1</th>\n",
       "      <td>5</td>\n",
       "      <td>5320</td>\n",
       "      <td>34</td>\n",
       "      <td>2015</td>\n",
       "      <td>11</td>\n",
       "    </tr>\n",
       "    <tr>\n",
       "      <th>2</th>\n",
       "      <td>5</td>\n",
       "      <td>5233</td>\n",
       "      <td>34</td>\n",
       "      <td>2015</td>\n",
       "      <td>11</td>\n",
       "    </tr>\n",
       "    <tr>\n",
       "      <th>3</th>\n",
       "      <td>5</td>\n",
       "      <td>5232</td>\n",
       "      <td>34</td>\n",
       "      <td>2015</td>\n",
       "      <td>11</td>\n",
       "    </tr>\n",
       "    <tr>\n",
       "      <th>4</th>\n",
       "      <td>5</td>\n",
       "      <td>5268</td>\n",
       "      <td>34</td>\n",
       "      <td>2015</td>\n",
       "      <td>11</td>\n",
       "    </tr>\n",
       "  </tbody>\n",
       "</table>\n",
       "</div>"
      ],
      "text/plain": [
       "    shop_id  item_id  date_block_num  year  month\n",
       "ID                                               \n",
       "0         5     5037              34  2015     11\n",
       "1         5     5320              34  2015     11\n",
       "2         5     5233              34  2015     11\n",
       "3         5     5232              34  2015     11\n",
       "4         5     5268              34  2015     11"
      ]
     },
     "execution_count": 23,
     "metadata": {},
     "output_type": "execute_result"
    }
   ],
   "source": [
    "test[\"date_block_num\"] = 34\n",
    "test[\"year\"] = 2015\n",
    "test[\"month\"] = 11\n",
    "test.head()"
   ]
  },
  {
   "cell_type": "code",
   "execution_count": 24,
   "metadata": {},
   "outputs": [
    {
     "name": "stdout",
     "output_type": "stream",
     "text": [
      "(1609124, 4)\n",
      "(424124, 3)\n"
     ]
    }
   ],
   "source": [
    "item_price_mean_df_test = item_price_mean_df\n",
    "item_price_mean_df_test.sort_values([\"date_block_num\"], inplace=True)\n",
    "print(item_price_mean_df_test.shape)\n",
    "\n",
    "item_price_mean_df_test.drop_duplicates(subset=[\"shop_id\", \"item_id\"], keep=\"last\", inplace=True)\n",
    "item_price_mean_df_test.drop([\"date_block_num\"], axis=1, inplace=True)\n",
    "print(item_price_mean_df_test.shape)"
   ]
  },
  {
   "cell_type": "code",
   "execution_count": 25,
   "metadata": {},
   "outputs": [
    {
     "name": "stdout",
     "output_type": "stream",
     "text": [
      "Memory usage of dataframe is 21.24 MB\n",
      "Memory usage after optimization is: 4.70 MB\n",
      "Decreased by 77.9%\n"
     ]
    }
   ],
   "source": [
    "test = pd.merge(test, item_price_mean_df, how=\"left\", on=[\"shop_id\", \"item_id\"])\n",
    "test = pd.merge(test, shops, how=\"left\", on=\"shop_id\")\n",
    "test = pd.merge(test, items, how=\"left\", on=\"item_id\")\n",
    "test = reduce_mem_usage2(test)"
   ]
  },
  {
   "cell_type": "markdown",
   "metadata": {},
   "source": [
    "### - All train shops items"
   ]
  },
  {
   "cell_type": "code",
   "execution_count": 26,
   "metadata": {
    "collapsed": true
   },
   "outputs": [],
   "source": [
    "train_all_v1 = False\n",
    "if (train_all_v1):\n",
    "    date_number = train[\"date_block_num\"].max() + 1\n",
    "    shop_number = shops[\"shop_id\"].max() + 1\n",
    "    item_number = items[\"item_id\"].max() + 1\n",
    "\n",
    "    train_all = pd.DataFrame({\"total_id\":pd.Series([i for i in range(date_number * shop_number * item_number)])})\n",
    "    train_all[\"date_block_num\"] = train_all[\"total_id\"] // (shop_number * item_number)\n",
    "    train_all[\"shop_id\"] = train_all[\"total_id\"] % (shop_number * item_number) // (item_number)\n",
    "    train_all[\"item_id\"] = train_all[\"total_id\"] % item_number\n",
    "    train_all[\"year\"] = train_all[\"date_block_num\"] // 12 + 2013\n",
    "    train_all[\"month\"] = train_all[\"date_block_num\"] % 12 + 1\n",
    "    train_all.drop([\"total_id\"], axis=1, inplace=True)\n",
    "\n",
    "    train_all = reduce_mem_usage2(train_all)\n",
    "    gc.collect()\n",
    "    train_all = pd.merge(train_all, train_gp, how=\"left\", on=[\"date_block_num\", \"shop_id\", \"item_id\"])"
   ]
  },
  {
   "cell_type": "code",
   "execution_count": 27,
   "metadata": {},
   "outputs": [
    {
     "name": "stderr",
     "output_type": "stream",
     "text": [
      "C:\\ProgramData\\Anaconda3\\lib\\site-packages\\pandas\\core\\groupby\\groupby.py:4658: FutureWarning: using a dict with renaming is deprecated and will be removed in a future version\n",
      "  return super(DataFrameGroupBy, self).aggregate(arg, *args, **kwargs)\n"
     ]
    }
   ],
   "source": [
    "train_all_v2 = True\n",
    "if (train_all_v2):\n",
    "    index_cols=[\"shop_id\", \"item_id\", \"date_block_num\"]\n",
    "    \n",
    "    # For every month we create a grid from all shops/items combinations from that month\n",
    "    grid = []\n",
    "    for block_num in train[\"date_block_num\"].unique():\n",
    "        cur_shops = train[train[\"date_block_num\"]==block_num][\"shop_id\"].unique()\n",
    "        cur_items = train[train[\"date_block_num\"]==block_num][\"item_id\"].unique()\n",
    "        grid.append(np.array(list(product(*[cur_shops, cur_items, [block_num]])), dtype=\"int32\"))\n",
    "        \n",
    "    #turn the grid into pandas dataframe\n",
    "    grid = pd.DataFrame(np.vstack(grid), columns = index_cols, dtype=np.int32)\n",
    "    \n",
    "    #get aggregated values for (shop_id, item_id, month)\n",
    "    gb = train.groupby(index_cols, as_index=False).agg({\"item_cnt_day\":{\"item_cnt_month\":\"sum\"}})\n",
    "    \n",
    "    #fix column names\n",
    "    gb.columns = [col[0] if col[-1] == \"\" else col[-1] for col in gb.columns.values]\n",
    "    #join aggregated data to the grid\n",
    "    train_all = pd.merge(grid, gb, how=\"left\", on=index_cols).fillna(0)\n",
    "    #sort the data\n",
    "    train_all.sort_values([\"date_block_num\", \"shop_id\", \"item_id\"], inplace=True)\n",
    "    \n",
    "    train_all[\"year\"] = train_all[\"date_block_num\"] // 12 + 2013\n",
    "    train_all[\"month\"] = train_all[\"date_block_num\"] % 12 + 1\n",
    "    train_gp.drop([\"item_cnt_month\"], axis=1, inplace=True)\n",
    "    train_all = pd.merge(train_all, train_gp, how=\"left\", on=[\"date_block_num\", \"shop_id\", \"item_id\"])"
   ]
  },
  {
   "cell_type": "code",
   "execution_count": 28,
   "metadata": {},
   "outputs": [
    {
     "data": {
      "text/html": [
       "<div>\n",
       "<style scoped>\n",
       "    .dataframe tbody tr th:only-of-type {\n",
       "        vertical-align: middle;\n",
       "    }\n",
       "\n",
       "    .dataframe tbody tr th {\n",
       "        vertical-align: top;\n",
       "    }\n",
       "\n",
       "    .dataframe thead th {\n",
       "        text-align: right;\n",
       "    }\n",
       "</style>\n",
       "<table border=\"1\" class=\"dataframe\">\n",
       "  <thead>\n",
       "    <tr style=\"text-align: right;\">\n",
       "      <th></th>\n",
       "      <th>shop_id</th>\n",
       "      <th>item_id</th>\n",
       "      <th>date_block_num</th>\n",
       "      <th>item_cnt_month</th>\n",
       "      <th>year</th>\n",
       "      <th>month</th>\n",
       "      <th>item_price</th>\n",
       "    </tr>\n",
       "  </thead>\n",
       "  <tbody>\n",
       "    <tr>\n",
       "      <th>0</th>\n",
       "      <td>0</td>\n",
       "      <td>19</td>\n",
       "      <td>0</td>\n",
       "      <td>0.0</td>\n",
       "      <td>2013</td>\n",
       "      <td>1</td>\n",
       "      <td>NaN</td>\n",
       "    </tr>\n",
       "    <tr>\n",
       "      <th>1</th>\n",
       "      <td>0</td>\n",
       "      <td>27</td>\n",
       "      <td>0</td>\n",
       "      <td>0.0</td>\n",
       "      <td>2013</td>\n",
       "      <td>1</td>\n",
       "      <td>NaN</td>\n",
       "    </tr>\n",
       "    <tr>\n",
       "      <th>2</th>\n",
       "      <td>0</td>\n",
       "      <td>28</td>\n",
       "      <td>0</td>\n",
       "      <td>0.0</td>\n",
       "      <td>2013</td>\n",
       "      <td>1</td>\n",
       "      <td>NaN</td>\n",
       "    </tr>\n",
       "    <tr>\n",
       "      <th>3</th>\n",
       "      <td>0</td>\n",
       "      <td>29</td>\n",
       "      <td>0</td>\n",
       "      <td>0.0</td>\n",
       "      <td>2013</td>\n",
       "      <td>1</td>\n",
       "      <td>NaN</td>\n",
       "    </tr>\n",
       "    <tr>\n",
       "      <th>4</th>\n",
       "      <td>0</td>\n",
       "      <td>32</td>\n",
       "      <td>0</td>\n",
       "      <td>6.0</td>\n",
       "      <td>2013</td>\n",
       "      <td>1</td>\n",
       "      <td>221.0</td>\n",
       "    </tr>\n",
       "  </tbody>\n",
       "</table>\n",
       "</div>"
      ],
      "text/plain": [
       "   shop_id  item_id  date_block_num  item_cnt_month  year  month  item_price\n",
       "0        0       19               0             0.0  2013      1         NaN\n",
       "1        0       27               0             0.0  2013      1         NaN\n",
       "2        0       28               0             0.0  2013      1         NaN\n",
       "3        0       29               0             0.0  2013      1         NaN\n",
       "4        0       32               0             6.0  2013      1       221.0"
      ]
     },
     "execution_count": 28,
     "metadata": {},
     "output_type": "execute_result"
    }
   ],
   "source": [
    "train_all.head()"
   ]
  },
  {
   "cell_type": "code",
   "execution_count": 29,
   "metadata": {},
   "outputs": [
    {
     "name": "stdout",
     "output_type": "stream",
     "text": [
      "Memory usage of dataframe is 895.11 MB\n",
      "Memory usage after optimization is: 260.21 MB\n",
      "Decreased by 70.9%\n"
     ]
    },
    {
     "data": {
      "text/plain": [
       "90"
      ]
     },
     "execution_count": 29,
     "metadata": {},
     "output_type": "execute_result"
    }
   ],
   "source": [
    "train_all = pd.merge(train_all, shops, how=\"left\", on=\"shop_id\")\n",
    "train_all = pd.merge(train_all, items, how=\"left\", on=\"item_id\")\n",
    "train_all = reduce_mem_usage2(train_all)\n",
    "gc.collect()"
   ]
  },
  {
   "cell_type": "markdown",
   "metadata": {},
   "source": [
    "### Feature Engnieering (Train_all)"
   ]
  },
  {
   "cell_type": "markdown",
   "metadata": {},
   "source": [
    "#### fillna of item_cnt_month (Before Mean encoding)"
   ]
  },
  {
   "cell_type": "code",
   "execution_count": 30,
   "metadata": {
    "collapsed": true
   },
   "outputs": [],
   "source": [
    "train_all[\"item_cnt_month\"].fillna(0, inplace=True)\n",
    "train_all[\"item_cnt_month\"] = train_all[\"item_cnt_month\"].astype(np.int32)"
   ]
  },
  {
   "cell_type": "markdown",
   "metadata": {},
   "source": [
    "#### -FE1- prev_sales"
   ]
  },
  {
   "cell_type": "code",
   "execution_count": 31,
   "metadata": {},
   "outputs": [
    {
     "name": "stderr",
     "output_type": "stream",
     "text": [
      "C:\\ProgramData\\Anaconda3\\lib\\site-packages\\pandas\\core\\generic.py:6312: SettingWithCopyWarning: \n",
      "A value is trying to be set on a copy of a slice from a DataFrame\n",
      "\n",
      "See the caveats in the documentation: http://pandas.pydata.org/pandas-docs/stable/indexing.html#indexing-view-versus-copy\n",
      "  self._update_inplace(result)\n",
      "C:\\ProgramData\\Anaconda3\\lib\\site-packages\\ipykernel_launcher.py:7: SettingWithCopyWarning: \n",
      "A value is trying to be set on a copy of a slice from a DataFrame.\n",
      "Try using .loc[row_indexer,col_indexer] = value instead\n",
      "\n",
      "See the caveats in the documentation: http://pandas.pydata.org/pandas-docs/stable/indexing.html#indexing-view-versus-copy\n",
      "  import sys\n",
      "C:\\ProgramData\\Anaconda3\\lib\\site-packages\\pandas\\core\\frame.py:3778: SettingWithCopyWarning: \n",
      "A value is trying to be set on a copy of a slice from a DataFrame\n",
      "\n",
      "See the caveats in the documentation: http://pandas.pydata.org/pandas-docs/stable/indexing.html#indexing-view-versus-copy\n",
      "  return super(DataFrame, self).rename(**kwargs)\n"
     ]
    }
   ],
   "source": [
    "#prev_sales grouped by date_block_num & item_id & shop_id\n",
    "try_this = True\n",
    "if (try_this):\n",
    "    for prev in [1, 2, 3, 4, 5]:\n",
    "        prev_sales = train_all[[\"date_block_num\", \"shop_id\", \"item_id\", \"item_cnt_month\"]]\n",
    "        prev_sales[\"item_cnt_month\"].clip(0, 20, inplace=True)\n",
    "        prev_sales[\"date_block_num\"] = prev_sales[\"date_block_num\"] + prev\n",
    "        prev_sales.rename(columns = {\"item_cnt_month\":\"prev_month_cnt_dsi_\"+str(prev)}, inplace=True)\n",
    "\n",
    "        train_all = pd.merge(train_all, prev_sales, how=\"left\", on=[\"date_block_num\", \"shop_id\", \"item_id\"])\n",
    "        test = pd.merge(test, prev_sales, how=\"left\", on=[\"date_block_num\", \"shop_id\", \"item_id\"])\n",
    "\n",
    "        train_all[\"prev_month_cnt_dsi_\"+str(prev)].fillna(0, inplace=True)\n",
    "        test[\"prev_month_cnt_dsi_\"+str(prev)].fillna(0, inplace=True)\n",
    "        \n",
    "        train_all[\"prev_month_cnt_dsi_\"+str(prev)] = train_all[\"prev_month_cnt_dsi_\"+str(prev)].astype(np.int32)  \n",
    "        test[\"prev_month_cnt_dsi_\"+str(prev)] = test[\"prev_month_cnt_dsi_\"+str(prev)].astype(np.int32)  \n",
    "\n",
    "        del prev_sales\n",
    "        gc.collect()"
   ]
  },
  {
   "cell_type": "code",
   "execution_count": 32,
   "metadata": {},
   "outputs": [
    {
     "name": "stderr",
     "output_type": "stream",
     "text": [
      "C:\\ProgramData\\Anaconda3\\lib\\site-packages\\pandas\\core\\generic.py:6312: SettingWithCopyWarning: \n",
      "A value is trying to be set on a copy of a slice from a DataFrame\n",
      "\n",
      "See the caveats in the documentation: http://pandas.pydata.org/pandas-docs/stable/indexing.html#indexing-view-versus-copy\n",
      "  self._update_inplace(result)\n"
     ]
    }
   ],
   "source": [
    "#prev_sales grouped by date_block_num & item_id\n",
    "try_this = True\n",
    "if (try_this):\n",
    "    for prev in [1, 2, 3, 4, 5]:\n",
    "        prev_sales = train_all[[\"date_block_num\", \"shop_id\", \"item_id\", \"item_cnt_month\"]]\n",
    "        prev_sales[\"item_cnt_month\"].clip(0.0, 20.0, inplace=True)\n",
    "        prev_sales_gp1 = (prev_sales[[\"date_block_num\", \"item_id\", \"item_cnt_month\"]]\n",
    "                          .groupby([\"date_block_num\", \"item_id\"])\n",
    "                         )\n",
    "\n",
    "        prev_sales_di = (prev_sales_gp1\n",
    "                         .sum()\n",
    "                         .reset_index()\n",
    "                        )\n",
    "        prev_sales_di.rename(columns = {\"item_cnt_month\":\"prev_month_cnt_di_\"+str(prev)}, inplace=True)\n",
    "\n",
    "        prev_sales_di[\"date_block_num\"] = prev_sales_di[\"date_block_num\"] + prev\n",
    "        prev_sales_di[\"prev_month_cnt_di_\"+str(prev)].clip(0.0, 400.0, inplace=True)\n",
    "\n",
    "        train_all = pd.merge(train_all, prev_sales_di, how=\"left\", on=[\"date_block_num\", \"item_id\"])\n",
    "        test = pd.merge(test, prev_sales_di, how=\"left\", on=[\"date_block_num\", \"item_id\"])\n",
    "\n",
    "        train_all[\"prev_month_cnt_di_\"+str(prev)].fillna(4, inplace=True) # 大体4が平均値\n",
    "        test[\"prev_month_cnt_di_\"+str(prev)].fillna(4, inplace=True) # 大体4が平均値\n",
    "\n",
    "        train_all[\"prev_month_cnt_di_\"+str(prev)] = train_all[\"prev_month_cnt_di_\"+str(prev)].astype(np.int32)  \n",
    "        test[\"prev_month_cnt_di_\"+str(prev)] = test[\"prev_month_cnt_di_\"+str(prev)].astype(np.int32)  \n",
    "        \n",
    "        del prev_sales, prev_sales_di\n",
    "        gc.collect()"
   ]
  },
  {
   "cell_type": "code",
   "execution_count": 33,
   "metadata": {},
   "outputs": [
    {
     "name": "stderr",
     "output_type": "stream",
     "text": [
      "C:\\ProgramData\\Anaconda3\\lib\\site-packages\\pandas\\core\\generic.py:6312: SettingWithCopyWarning: \n",
      "A value is trying to be set on a copy of a slice from a DataFrame\n",
      "\n",
      "See the caveats in the documentation: http://pandas.pydata.org/pandas-docs/stable/indexing.html#indexing-view-versus-copy\n",
      "  self._update_inplace(result)\n"
     ]
    }
   ],
   "source": [
    "#prev_sales grouped by date_block_num & shop_id\n",
    "try_this = True\n",
    "if (try_this):\n",
    "    for prev in [1, 2, 3, 4, 5]:\n",
    "        prev_sales = train_all[[\"date_block_num\", \"shop_id\", \"item_id\", \"item_cnt_month\"]]\n",
    "        prev_sales[\"item_cnt_month\"].clip(0.0, 20.0, inplace=True)\n",
    "        prev_sales_gp2 = (prev_sales[[\"date_block_num\", \"shop_id\", \"item_cnt_month\"]]\n",
    "                          .groupby([\"date_block_num\", \"shop_id\"])\n",
    "                         )\n",
    "\n",
    "        prev_sales_ds = (prev_sales_gp2\n",
    "                         .sum()\n",
    "                         .reset_index()\n",
    "                        )\n",
    "        prev_sales_ds.rename(columns = {\"item_cnt_month\":\"prev_month_cnt_ds_\"+str(prev)}, inplace=True)\n",
    "\n",
    "        prev_sales_ds[\"date_block_num\"] = prev_sales_ds[\"date_block_num\"] + prev\n",
    "        prev_sales_ds[\"prev_month_cnt_ds_\"+str(prev)].clip(0.0, 4000.0, inplace=True)\n",
    "\n",
    "        train_all = pd.merge(train_all, prev_sales_ds, how=\"left\", on=[\"date_block_num\", \"shop_id\"])\n",
    "        test = pd.merge(test, prev_sales_ds, how=\"left\", on=[\"date_block_num\", \"shop_id\"])\n",
    "\n",
    "        train_all[\"prev_month_cnt_ds_\"+str(prev)].fillna(1140, inplace=True) # 大体1138が平均値\n",
    "        test[\"prev_month_cnt_ds_\"+str(prev)].fillna(1140, inplace=True) # 大体1138が平均値\n",
    "\n",
    "        train_all[\"prev_month_cnt_ds_\"+str(prev)] = train_all[\"prev_month_cnt_ds_\"+str(prev)].astype(np.int32)  \n",
    "        test[\"prev_month_cnt_ds_\"+str(prev)] = test[\"prev_month_cnt_ds_\"+str(prev)].astype(np.int32)  \n",
    "        \n",
    "        del prev_sales, prev_sales_ds\n",
    "        gc.collect()"
   ]
  },
  {
   "cell_type": "code",
   "execution_count": 34,
   "metadata": {
    "collapsed": true
   },
   "outputs": [],
   "source": [
    "#delta of prev_sales grouped by date_block_num & item_id\n",
    "try_this = True\n",
    "if (try_this):\n",
    "    for prev in [1, 2, 3, 4]:\n",
    "        train_all[\"delta_prev_month_cnt_di_\"+str(prev)+\"-\"+str(prev+1)] = train_all[\"prev_month_cnt_di_\"+str(prev)] - train_all[\"prev_month_cnt_di_\"+str(prev+1)] \n",
    "        test[\"delta_prev_month_cnt_di_\"+str(prev)+\"-\"+str(prev+1)] = test[\"prev_month_cnt_di_\"+str(prev)] - test[\"prev_month_cnt_di_\"+str(prev+1)] \n",
    "        \n",
    "        train_all[\"delta_prev_month_cnt_di_\"+str(prev)+\"-\"+str(prev+1)] = train_all[\"delta_prev_month_cnt_di_\"+str(prev)+\"-\"+str(prev+1)].astype(np.int32)    \n",
    "        test[\"delta_prev_month_cnt_di_\"+str(prev)+\"-\"+str(prev+1)] = test[\"delta_prev_month_cnt_di_\"+str(prev)+\"-\"+str(prev+1)].astype(np.int32)    \n",
    "\n",
    "        gc.collect()"
   ]
  },
  {
   "cell_type": "markdown",
   "metadata": {},
   "source": [
    "#### -FE2- Mean encoding (Advanced Features I: mean encodings)"
   ]
  },
  {
   "cell_type": "code",
   "execution_count": 35,
   "metadata": {
    "collapsed": true
   },
   "outputs": [],
   "source": [
    "# Finally I don't use this feature.\n",
    "# Valid score improve. But Pablic score umimporve.\n",
    "try_this = False\n",
    "if (try_this):\n",
    "    train_all[\"ME_item_mean\"] = 0.3343 # average of item_cnt_month\n",
    "\n",
    "    y_tr = train_all[\"item_cnt_month\"].values\n",
    "    y_tr = y_tr.clip(0.0, 20.0)\n",
    "    kf = KFold(n_splits=5, shuffle=True, random_state=SEED)\n",
    "    for tr_ind, val_ind in kf.split(train_all, y_tr):\n",
    "        X_tr, X_val = train_all.iloc[tr_ind], train_all.iloc[val_ind]\n",
    "        means = X_val[\"item_id\"].map(X_tr.groupby([\"item_id\"])[\"item_cnt_month\"].mean())\n",
    "        X_val[\"ME_item_mean\"] = means\n",
    "        train_all.iloc[val_ind] = X_val\n",
    "\n",
    "    #Mean encoding for Valid Data    \n",
    "    if (isValid):\n",
    "        tr_ind = train_all[(train_all[\"date_block_num\"] <= split_date)].index\n",
    "        val_ind = train_all[(train_all[\"date_block_num\"] > split_date)].index\n",
    "        X_tr, X_val = train_all.iloc[tr_ind], train_all.iloc[val_ind]\n",
    "        means = X_val[\"item_id\"].map(X_tr.groupby([\"item_id\"])[\"ME_item_mean\"].mean())\n",
    "        X_val[\"ME_item_mean\"] = means\n",
    "        train_all.iloc[val_ind] = X_val\n",
    "\n",
    "    #Mean encoding for Test Data   \n",
    "    means = test[\"item_id\"].map(train_all.groupby([\"item_id\"])[\"ME_item_mean\"].mean())\n",
    "    test[\"ME_item_mean\"] = means\n",
    "\n",
    "    train_all[\"ME_item_mean\"].fillna(0.3343, inplace=True)\n",
    "    test[\"ME_item_mean\"].fillna(0.3343, inplace=True)\n",
    "\n",
    "    del X_tr, X_val, y_tr, tr_ind, val_ind, means\n",
    "    gc.collect()"
   ]
  },
  {
   "cell_type": "markdown",
   "metadata": {},
   "source": [
    "#### -FE3- item_price (Advanced Features II)"
   ]
  },
  {
   "cell_type": "code",
   "execution_count": 36,
   "metadata": {
    "collapsed": true
   },
   "outputs": [],
   "source": [
    "if (isValid):\n",
    "    train_for_gp = train[(train[\"date_block_num\"] <= split_date)]\n",
    "else:\n",
    "    train_for_gp = train\n",
    "\n",
    "# Std of item_price (Also Coefficient of variation)\n",
    "item_price_std_srs = train_for_gp.groupby([\"item_id\"])[\"item_price\"].std()\n",
    "item_price_std_srs.name = \"item_price_std\"\n",
    "train_all[\"item_price_std\"] = train_all[\"item_id\"].map(item_price_std_srs).fillna(0)\n",
    "train_all[\"price_CoefVar\"] = train_all[\"item_price_std\"]/train_gp[\"item_price\"]   \n",
    "test[\"item_price_std\"] = test[\"item_id\"].map(item_price_std_srs).fillna(0)\n",
    "test.loc[~(test[\"item_price\"].isnull()), \"price_CoefVar\"] = test[\"item_price_std\"]/test[\"item_price\"]\n",
    "\n",
    "# MaxPrice, MinPrice of item_price\n",
    "item_price_max_srs = train_for_gp.groupby([\"item_id\"])[\"item_price\"].max()\n",
    "item_price_min_srs = train_for_gp.groupby([\"item_id\"])[\"item_price\"].min()\n",
    "\n",
    "train_all[\"max_price\"] = train_all[\"item_id\"].map(item_price_max_srs)\n",
    "train_all[\"min_price\"] = train_all[\"item_id\"].map(item_price_min_srs)\n",
    "test[\"max_price\"] = test[\"item_id\"].map(item_price_max_srs)\n",
    "test[\"min_price\"] = test[\"item_id\"].map(item_price_min_srs)"
   ]
  },
  {
   "cell_type": "markdown",
   "metadata": {},
   "source": [
    "#### -FE4- first_sell_day, last_sell_day"
   ]
  },
  {
   "cell_type": "code",
   "execution_count": 37,
   "metadata": {
    "collapsed": true
   },
   "outputs": [],
   "source": [
    "try_this = True\n",
    "if (try_this):   \n",
    "    train_sell_period = train.sort_values(\"date_block_num\")\n",
    "    if (isValid):\n",
    "        train_sell_period = train_sell_period[(train_sell_period[\"date_block_num\"] <= split_date )]\n",
    "    \n",
    "    first_sell_df = train_sell_period.drop_duplicates(keep=\"first\", subset=[\"item_id\"])\n",
    "    first_sell_df = first_sell_df[[\"item_id\", \"date_block_num\"]]\n",
    "    first_sell_df.rename(columns={\"date_block_num\":\"first_sell_month\"}, inplace=True)\n",
    "    first_sell_df[\"first_sell_month\"] = first_sell_df[\"first_sell_month\"].astype(np.int8)  \n",
    "\n",
    "    last_sell_df = train_sell_period.drop_duplicates(keep=\"last\", subset=[\"item_id\"])\n",
    "    last_sell_df = last_sell_df[[\"item_id\", \"date_block_num\"]]\n",
    "    last_sell_df.rename(columns={\"date_block_num\":\"last_sell_month\"}, inplace=True)\n",
    "    last_sell_df[\"last_sell_month\"] = last_sell_df[\"last_sell_month\"].astype(np.int8)  \n",
    "\n",
    "    train_all = pd.merge(train_all, first_sell_df, how=\"left\", on=\"item_id\")\n",
    "    train_all = pd.merge(train_all, last_sell_df, how=\"left\", on=\"item_id\")\n",
    "    test = pd.merge(test, first_sell_df, how=\"left\", on=\"item_id\")\n",
    "    test = pd.merge(test, last_sell_df, how=\"left\", on=\"item_id\")\n",
    "\n",
    "    train_all[\"first_last_period\"] = train_all[\"last_sell_month\"] - train_all[\"first_sell_month\"]\n",
    "    test[\"first_last_period\"] = test[\"last_sell_month\"] - test[\"first_sell_month\"]\n",
    "\n",
    "    del train_sell_period, first_sell_df, last_sell_df\n",
    "    gc.collect()"
   ]
  },
  {
   "cell_type": "markdown",
   "metadata": {},
   "source": [
    "### Fillna, log of item_price, del"
   ]
  },
  {
   "cell_type": "code",
   "execution_count": 38,
   "metadata": {},
   "outputs": [
    {
     "name": "stdout",
     "output_type": "stream",
     "text": [
      "Memory usage of dataframe is 1436.34 MB\n",
      "Memory usage after optimization is: 718.17 MB\n",
      "Decreased by 50.0%\n",
      "Memory usage of dataframe is 31.66 MB\n",
      "Memory usage after optimization is: 14.30 MB\n",
      "Decreased by 54.8%\n"
     ]
    }
   ],
   "source": [
    "train_all = reduce_mem_usage2(train_all)\n",
    "test = reduce_mem_usage2(test)"
   ]
  },
  {
   "cell_type": "code",
   "execution_count": 39,
   "metadata": {
    "collapsed": true
   },
   "outputs": [],
   "source": [
    "### Fill missing values\n",
    "# https://www.kaggle.com/seiya1998/fill-missing-values-simple-method\n",
    "\n",
    "def fill_missing_target(df, train_df, target, lis0):\n",
    "    lis = copy.deepcopy(lis0) #local変数として対応\n",
    "    print(\"*** \"+target+\" fillna ***\")\n",
    "    print(\"[Before FillNa] \"+target+\"_nan_sum : \"+str(df[target].isnull().sum()))\n",
    "    \n",
    "    count = 0\n",
    "    while 0 < len(lis):\n",
    "        if df[target].isnull().sum() == 0:\n",
    "            print(\"the number of NaN is 0.\")\n",
    "            break\n",
    "            \n",
    "        count += 1\n",
    "        colname = \"median_target\"+str(count)\n",
    "        print(\"groupby_\"+\",\".join(lis)+\"_median\")\n",
    "        tmp = train_df.groupby(lis)[[target]].median()\n",
    "        tmp.reset_index(inplace = True)\n",
    "        tmp.columns = lis + [colname]\n",
    "        df = pd.merge(df, tmp, how='left', on=lis)\n",
    "        df.loc[df[target].isnull(),target] = df.loc[df[target].isnull(),colname]\n",
    "\n",
    "        del(df[colname])\n",
    "        lis.pop()\n",
    "\n",
    "        print(target+\"_nan_sum : \"+str(df[target].isnull().sum()))\n",
    "    \n",
    "    return df\n",
    "###"
   ]
  },
  {
   "cell_type": "code",
   "execution_count": 40,
   "metadata": {},
   "outputs": [
    {
     "name": "stdout",
     "output_type": "stream",
     "text": [
      "--fillna Train--\n",
      "*** item_price fillna ***\n",
      "[Before FillNa] item_price_nan_sum : 9304726\n",
      "groupby_item_category_id,item_id,date_block_num_median\n",
      "item_price_nan_sum : 0\n",
      "the number of NaN is 0.\n",
      "*** price_CoefVar fillna ***\n",
      "[Before FillNa] price_CoefVar_nan_sum : 9304726\n",
      "groupby_item_category_id,item_id_median\n",
      "price_CoefVar_nan_sum : 3950302\n",
      "groupby_item_category_id_median\n",
      "price_CoefVar_nan_sum : 173691\n",
      "*** max_price fillna ***\n",
      "[Before FillNa] max_price_nan_sum : 0\n",
      "the number of NaN is 0.\n",
      "*** min_price fillna ***\n",
      "[Before FillNa] min_price_nan_sum : 0\n",
      "the number of NaN is 0.\n",
      "--fillna Test--\n",
      "*** item_price fillna ***\n",
      "[Before FillNa] item_price_nan_sum : 102796\n",
      "groupby_item_category_id,item_id,shop_id_median\n",
      "item_price_nan_sum : 16102\n",
      "groupby_item_category_id,item_id_median\n",
      "item_price_nan_sum : 15246\n",
      "groupby_item_category_id_median\n",
      "item_price_nan_sum : 0\n",
      "*** item_price_std fillna ***\n",
      "[Before FillNa] item_price_std_nan_sum : 0\n",
      "the number of NaN is 0.\n",
      "*** price_CoefVar fillna ***\n",
      "[Before FillNa] price_CoefVar_nan_sum : 102796\n",
      "groupby_item_category_id,item_id,shop_id_median\n",
      "price_CoefVar_nan_sum : 22769\n",
      "groupby_item_category_id,item_id_median\n",
      "price_CoefVar_nan_sum : 21939\n",
      "groupby_item_category_id_median\n",
      "price_CoefVar_nan_sum : 9129\n",
      "*** max_price fillna ***\n",
      "[Before FillNa] max_price_nan_sum : 15246\n",
      "groupby_item_category_id,item_id,shop_id_median\n",
      "max_price_nan_sum : 15246\n",
      "groupby_item_category_id,item_id_median\n",
      "max_price_nan_sum : 15246\n",
      "groupby_item_category_id_median\n",
      "max_price_nan_sum : 0\n",
      "*** min_price fillna ***\n",
      "[Before FillNa] min_price_nan_sum : 15246\n",
      "groupby_item_category_id,item_id,shop_id_median\n",
      "min_price_nan_sum : 15246\n",
      "groupby_item_category_id,item_id_median\n",
      "min_price_nan_sum : 15246\n",
      "groupby_item_category_id_median\n",
      "min_price_nan_sum : 0\n"
     ]
    }
   ],
   "source": [
    "print(\"--fillna Train--\")\n",
    "train_lis = ['item_category_id', 'item_id','date_block_num']#, 'shop_id']\n",
    "train_all = fill_missing_target(train_all, train_all, \"item_price\", train_lis)\n",
    "\n",
    "train_lis = ['item_category_id', 'item_id']\n",
    "#train_all = fill_missing_target(train_all, train_all, \"item_price_std\", train_lis) # fillna(0)済\n",
    "train_all = fill_missing_target(train_all, train_all, \"price_CoefVar\", train_lis)\n",
    "train_all = fill_missing_target(train_all, train_all, \"max_price\", train_lis)\n",
    "train_all = fill_missing_target(train_all, train_all, \"min_price\", train_lis)\n",
    "\n",
    "print(\"--fillna Test--\")\n",
    "test_lis = ['item_category_id','item_id','shop_id']\n",
    "test = fill_missing_target(test, train_all, \"item_price\", test_lis)\n",
    "test = fill_missing_target(test, train_all, \"item_price_std\", test_lis)\n",
    "test = fill_missing_target(test, train_all, \"price_CoefVar\", test_lis)\n",
    "test = fill_missing_target(test, train_all, \"max_price\", test_lis)\n",
    "test = fill_missing_target(test, train_all, \"min_price\", test_lis)\n",
    "\n",
    "train_all[\"item_price\"] = np.log(train_all[\"item_price\"]+0.001)\n",
    "test[\"item_price\"] = np.log(test[\"item_price\"]+0.001)"
   ]
  },
  {
   "cell_type": "code",
   "execution_count": 41,
   "metadata": {
    "collapsed": true
   },
   "outputs": [],
   "source": [
    "train_all[\"item_cnt_month\"].clip(0, 20, inplace=True)"
   ]
  },
  {
   "cell_type": "code",
   "execution_count": 42,
   "metadata": {},
   "outputs": [
    {
     "data": {
      "text/plain": [
       "294"
      ]
     },
     "execution_count": 42,
     "metadata": {},
     "output_type": "execute_result"
    }
   ],
   "source": [
    "del item_price_mean_df_test\n",
    "del items, shops\n",
    "gc.collect()"
   ]
  },
  {
   "cell_type": "markdown",
   "metadata": {},
   "source": [
    "### Before Modeling State"
   ]
  },
  {
   "cell_type": "code",
   "execution_count": 43,
   "metadata": {},
   "outputs": [
    {
     "name": "stdout",
     "output_type": "stream",
     "text": [
      "Memory usage of dataframe is 718.17 MB\n",
      "Memory usage after optimization is: 707.76 MB\n",
      "Decreased by 1.4%\n",
      "Memory usage of dataframe is 14.30 MB\n",
      "Memory usage after optimization is: 14.30 MB\n",
      "Decreased by 0.0%\n"
     ]
    }
   ],
   "source": [
    "train_all = reduce_mem_usage2(train_all)\n",
    "test = reduce_mem_usage2(test)"
   ]
  },
  {
   "cell_type": "code",
   "execution_count": 44,
   "metadata": {},
   "outputs": [
    {
     "name": "stdout",
     "output_type": "stream",
     "text": [
      "Train\n",
      "Shape: (10913850, 39)\n",
      "Columns: Index(['shop_id', 'item_id', 'date_block_num', 'item_cnt_month', 'year',\n",
      "       'month', 'item_price', 'city', 'store_form', 'shop_store_name',\n",
      "       'item_category_id', 'first_cate', 'second_cate', 'prev_month_cnt_dsi_1',\n",
      "       'prev_month_cnt_dsi_2', 'prev_month_cnt_dsi_3', 'prev_month_cnt_dsi_4',\n",
      "       'prev_month_cnt_dsi_5', 'prev_month_cnt_di_1', 'prev_month_cnt_di_2',\n",
      "       'prev_month_cnt_di_3', 'prev_month_cnt_di_4', 'prev_month_cnt_di_5',\n",
      "       'prev_month_cnt_ds_1', 'prev_month_cnt_ds_2', 'prev_month_cnt_ds_3',\n",
      "       'prev_month_cnt_ds_4', 'prev_month_cnt_ds_5',\n",
      "       'delta_prev_month_cnt_di_1-2', 'delta_prev_month_cnt_di_2-3',\n",
      "       'delta_prev_month_cnt_di_3-4', 'delta_prev_month_cnt_di_4-5',\n",
      "       'item_price_std', 'price_CoefVar', 'max_price', 'min_price',\n",
      "       'first_sell_month', 'last_sell_month', 'first_last_period'],\n",
      "      dtype='object')\n",
      "Test\n",
      "Shape: (214200, 38)\n",
      "Columns: Index(['shop_id', 'item_id', 'date_block_num', 'year', 'month', 'item_price',\n",
      "       'city', 'store_form', 'shop_store_name', 'item_category_id',\n",
      "       'first_cate', 'second_cate', 'prev_month_cnt_dsi_1',\n",
      "       'prev_month_cnt_dsi_2', 'prev_month_cnt_dsi_3', 'prev_month_cnt_dsi_4',\n",
      "       'prev_month_cnt_dsi_5', 'prev_month_cnt_di_1', 'prev_month_cnt_di_2',\n",
      "       'prev_month_cnt_di_3', 'prev_month_cnt_di_4', 'prev_month_cnt_di_5',\n",
      "       'prev_month_cnt_ds_1', 'prev_month_cnt_ds_2', 'prev_month_cnt_ds_3',\n",
      "       'prev_month_cnt_ds_4', 'prev_month_cnt_ds_5',\n",
      "       'delta_prev_month_cnt_di_1-2', 'delta_prev_month_cnt_di_2-3',\n",
      "       'delta_prev_month_cnt_di_3-4', 'delta_prev_month_cnt_di_4-5',\n",
      "       'item_price_std', 'price_CoefVar', 'max_price', 'min_price',\n",
      "       'first_sell_month', 'last_sell_month', 'first_last_period'],\n",
      "      dtype='object')\n"
     ]
    }
   ],
   "source": [
    "print(\"Train\")\n",
    "print(\"Shape:\", train_all.shape)\n",
    "print(\"Columns:\", train_all.columns)\n",
    "print(\"Test\")\n",
    "print(\"Shape:\", test.shape)\n",
    "print(\"Columns:\", test.columns)"
   ]
  },
  {
   "cell_type": "code",
   "execution_count": 45,
   "metadata": {},
   "outputs": [
    {
     "data": {
      "text/html": [
       "<div>\n",
       "<style scoped>\n",
       "    .dataframe tbody tr th:only-of-type {\n",
       "        vertical-align: middle;\n",
       "    }\n",
       "\n",
       "    .dataframe tbody tr th {\n",
       "        vertical-align: top;\n",
       "    }\n",
       "\n",
       "    .dataframe thead th {\n",
       "        text-align: right;\n",
       "    }\n",
       "</style>\n",
       "<table border=\"1\" class=\"dataframe\">\n",
       "  <thead>\n",
       "    <tr style=\"text-align: right;\">\n",
       "      <th></th>\n",
       "      <th>shop_id</th>\n",
       "      <th>item_id</th>\n",
       "      <th>date_block_num</th>\n",
       "      <th>item_cnt_month</th>\n",
       "      <th>year</th>\n",
       "      <th>month</th>\n",
       "      <th>item_price</th>\n",
       "      <th>city</th>\n",
       "      <th>store_form</th>\n",
       "      <th>shop_store_name</th>\n",
       "      <th>...</th>\n",
       "      <th>delta_prev_month_cnt_di_2-3</th>\n",
       "      <th>delta_prev_month_cnt_di_3-4</th>\n",
       "      <th>delta_prev_month_cnt_di_4-5</th>\n",
       "      <th>item_price_std</th>\n",
       "      <th>price_CoefVar</th>\n",
       "      <th>max_price</th>\n",
       "      <th>min_price</th>\n",
       "      <th>first_sell_month</th>\n",
       "      <th>last_sell_month</th>\n",
       "      <th>first_last_period</th>\n",
       "    </tr>\n",
       "  </thead>\n",
       "  <tbody>\n",
       "    <tr>\n",
       "      <th>0</th>\n",
       "      <td>0</td>\n",
       "      <td>19</td>\n",
       "      <td>0</td>\n",
       "      <td>0</td>\n",
       "      <td>2013</td>\n",
       "      <td>1</td>\n",
       "      <td>3.332031</td>\n",
       "      <td>0</td>\n",
       "      <td>4</td>\n",
       "      <td>50</td>\n",
       "      <td>...</td>\n",
       "      <td>0</td>\n",
       "      <td>0</td>\n",
       "      <td>0</td>\n",
       "      <td>0.0000</td>\n",
       "      <td>0.000000</td>\n",
       "      <td>28.0</td>\n",
       "      <td>28.000</td>\n",
       "      <td>0</td>\n",
       "      <td>0</td>\n",
       "      <td>0</td>\n",
       "    </tr>\n",
       "    <tr>\n",
       "      <th>1</th>\n",
       "      <td>0</td>\n",
       "      <td>27</td>\n",
       "      <td>0</td>\n",
       "      <td>0</td>\n",
       "      <td>2013</td>\n",
       "      <td>1</td>\n",
       "      <td>7.824219</td>\n",
       "      <td>0</td>\n",
       "      <td>4</td>\n",
       "      <td>50</td>\n",
       "      <td>...</td>\n",
       "      <td>0</td>\n",
       "      <td>0</td>\n",
       "      <td>0</td>\n",
       "      <td>610.0000</td>\n",
       "      <td>1.757812</td>\n",
       "      <td>2500.0</td>\n",
       "      <td>498.000</td>\n",
       "      <td>0</td>\n",
       "      <td>17</td>\n",
       "      <td>17</td>\n",
       "    </tr>\n",
       "    <tr>\n",
       "      <th>2</th>\n",
       "      <td>0</td>\n",
       "      <td>28</td>\n",
       "      <td>0</td>\n",
       "      <td>0</td>\n",
       "      <td>2013</td>\n",
       "      <td>1</td>\n",
       "      <td>6.308594</td>\n",
       "      <td>0</td>\n",
       "      <td>4</td>\n",
       "      <td>50</td>\n",
       "      <td>...</td>\n",
       "      <td>0</td>\n",
       "      <td>0</td>\n",
       "      <td>0</td>\n",
       "      <td>118.1875</td>\n",
       "      <td>0.478516</td>\n",
       "      <td>549.0</td>\n",
       "      <td>126.000</td>\n",
       "      <td>0</td>\n",
       "      <td>14</td>\n",
       "      <td>14</td>\n",
       "    </tr>\n",
       "    <tr>\n",
       "      <th>3</th>\n",
       "      <td>0</td>\n",
       "      <td>29</td>\n",
       "      <td>0</td>\n",
       "      <td>0</td>\n",
       "      <td>2013</td>\n",
       "      <td>1</td>\n",
       "      <td>7.824219</td>\n",
       "      <td>0</td>\n",
       "      <td>4</td>\n",
       "      <td>50</td>\n",
       "      <td>...</td>\n",
       "      <td>0</td>\n",
       "      <td>0</td>\n",
       "      <td>0</td>\n",
       "      <td>612.5000</td>\n",
       "      <td>2.771484</td>\n",
       "      <td>2500.0</td>\n",
       "      <td>978.000</td>\n",
       "      <td>0</td>\n",
       "      <td>14</td>\n",
       "      <td>14</td>\n",
       "    </tr>\n",
       "    <tr>\n",
       "      <th>4</th>\n",
       "      <td>0</td>\n",
       "      <td>32</td>\n",
       "      <td>0</td>\n",
       "      <td>6</td>\n",
       "      <td>2013</td>\n",
       "      <td>1</td>\n",
       "      <td>5.398438</td>\n",
       "      <td>0</td>\n",
       "      <td>4</td>\n",
       "      <td>50</td>\n",
       "      <td>...</td>\n",
       "      <td>0</td>\n",
       "      <td>0</td>\n",
       "      <td>0</td>\n",
       "      <td>100.0000</td>\n",
       "      <td>0.778320</td>\n",
       "      <td>349.0</td>\n",
       "      <td>70.625</td>\n",
       "      <td>0</td>\n",
       "      <td>33</td>\n",
       "      <td>33</td>\n",
       "    </tr>\n",
       "  </tbody>\n",
       "</table>\n",
       "<p>5 rows × 39 columns</p>\n",
       "</div>"
      ],
      "text/plain": [
       "   shop_id  item_id  date_block_num  item_cnt_month  year  month  item_price  \\\n",
       "0        0       19               0               0  2013      1    3.332031   \n",
       "1        0       27               0               0  2013      1    7.824219   \n",
       "2        0       28               0               0  2013      1    6.308594   \n",
       "3        0       29               0               0  2013      1    7.824219   \n",
       "4        0       32               0               6  2013      1    5.398438   \n",
       "\n",
       "   city  store_form  shop_store_name        ...          \\\n",
       "0     0           4               50        ...           \n",
       "1     0           4               50        ...           \n",
       "2     0           4               50        ...           \n",
       "3     0           4               50        ...           \n",
       "4     0           4               50        ...           \n",
       "\n",
       "   delta_prev_month_cnt_di_2-3  delta_prev_month_cnt_di_3-4  \\\n",
       "0                            0                            0   \n",
       "1                            0                            0   \n",
       "2                            0                            0   \n",
       "3                            0                            0   \n",
       "4                            0                            0   \n",
       "\n",
       "   delta_prev_month_cnt_di_4-5  item_price_std  price_CoefVar  max_price  \\\n",
       "0                            0          0.0000       0.000000       28.0   \n",
       "1                            0        610.0000       1.757812     2500.0   \n",
       "2                            0        118.1875       0.478516      549.0   \n",
       "3                            0        612.5000       2.771484     2500.0   \n",
       "4                            0        100.0000       0.778320      349.0   \n",
       "\n",
       "   min_price  first_sell_month  last_sell_month  first_last_period  \n",
       "0     28.000                 0                0                  0  \n",
       "1    498.000                 0               17                 17  \n",
       "2    126.000                 0               14                 14  \n",
       "3    978.000                 0               14                 14  \n",
       "4     70.625                 0               33                 33  \n",
       "\n",
       "[5 rows x 39 columns]"
      ]
     },
     "execution_count": 45,
     "metadata": {},
     "output_type": "execute_result"
    }
   ],
   "source": [
    "train_all.head()"
   ]
  },
  {
   "cell_type": "code",
   "execution_count": 46,
   "metadata": {},
   "outputs": [
    {
     "data": {
      "text/html": [
       "<div>\n",
       "<style scoped>\n",
       "    .dataframe tbody tr th:only-of-type {\n",
       "        vertical-align: middle;\n",
       "    }\n",
       "\n",
       "    .dataframe tbody tr th {\n",
       "        vertical-align: top;\n",
       "    }\n",
       "\n",
       "    .dataframe thead th {\n",
       "        text-align: right;\n",
       "    }\n",
       "</style>\n",
       "<table border=\"1\" class=\"dataframe\">\n",
       "  <thead>\n",
       "    <tr style=\"text-align: right;\">\n",
       "      <th></th>\n",
       "      <th>shop_id</th>\n",
       "      <th>item_id</th>\n",
       "      <th>date_block_num</th>\n",
       "      <th>year</th>\n",
       "      <th>month</th>\n",
       "      <th>item_price</th>\n",
       "      <th>city</th>\n",
       "      <th>store_form</th>\n",
       "      <th>shop_store_name</th>\n",
       "      <th>item_category_id</th>\n",
       "      <th>...</th>\n",
       "      <th>delta_prev_month_cnt_di_2-3</th>\n",
       "      <th>delta_prev_month_cnt_di_3-4</th>\n",
       "      <th>delta_prev_month_cnt_di_4-5</th>\n",
       "      <th>item_price_std</th>\n",
       "      <th>price_CoefVar</th>\n",
       "      <th>max_price</th>\n",
       "      <th>min_price</th>\n",
       "      <th>first_sell_month</th>\n",
       "      <th>last_sell_month</th>\n",
       "      <th>first_last_period</th>\n",
       "    </tr>\n",
       "  </thead>\n",
       "  <tbody>\n",
       "    <tr>\n",
       "      <th>0</th>\n",
       "      <td>5</td>\n",
       "      <td>5037</td>\n",
       "      <td>34</td>\n",
       "      <td>2015</td>\n",
       "      <td>11</td>\n",
       "      <td>6.621094</td>\n",
       "      <td>4</td>\n",
       "      <td>8</td>\n",
       "      <td>11</td>\n",
       "      <td>19</td>\n",
       "      <td>...</td>\n",
       "      <td>-11</td>\n",
       "      <td>65</td>\n",
       "      <td>-51</td>\n",
       "      <td>655.0</td>\n",
       "      <td>0.874023</td>\n",
       "      <td>2600.0</td>\n",
       "      <td>749.00</td>\n",
       "      <td>20.0</td>\n",
       "      <td>33.0</td>\n",
       "      <td>13.0</td>\n",
       "    </tr>\n",
       "    <tr>\n",
       "      <th>1</th>\n",
       "      <td>5</td>\n",
       "      <td>5320</td>\n",
       "      <td>34</td>\n",
       "      <td>2015</td>\n",
       "      <td>11</td>\n",
       "      <td>5.699219</td>\n",
       "      <td>4</td>\n",
       "      <td>8</td>\n",
       "      <td>11</td>\n",
       "      <td>55</td>\n",
       "      <td>...</td>\n",
       "      <td>0</td>\n",
       "      <td>0</td>\n",
       "      <td>0</td>\n",
       "      <td>0.0</td>\n",
       "      <td>0.057648</td>\n",
       "      <td>299.0</td>\n",
       "      <td>150.25</td>\n",
       "      <td>NaN</td>\n",
       "      <td>NaN</td>\n",
       "      <td>NaN</td>\n",
       "    </tr>\n",
       "    <tr>\n",
       "      <th>2</th>\n",
       "      <td>5</td>\n",
       "      <td>5233</td>\n",
       "      <td>34</td>\n",
       "      <td>2015</td>\n",
       "      <td>11</td>\n",
       "      <td>7.089844</td>\n",
       "      <td>4</td>\n",
       "      <td>8</td>\n",
       "      <td>11</td>\n",
       "      <td>19</td>\n",
       "      <td>...</td>\n",
       "      <td>-70</td>\n",
       "      <td>113</td>\n",
       "      <td>-82</td>\n",
       "      <td>282.0</td>\n",
       "      <td>0.235107</td>\n",
       "      <td>1199.0</td>\n",
       "      <td>599.00</td>\n",
       "      <td>27.0</td>\n",
       "      <td>33.0</td>\n",
       "      <td>6.0</td>\n",
       "    </tr>\n",
       "    <tr>\n",
       "      <th>3</th>\n",
       "      <td>5</td>\n",
       "      <td>5232</td>\n",
       "      <td>34</td>\n",
       "      <td>2015</td>\n",
       "      <td>11</td>\n",
       "      <td>6.394531</td>\n",
       "      <td>4</td>\n",
       "      <td>8</td>\n",
       "      <td>11</td>\n",
       "      <td>23</td>\n",
       "      <td>...</td>\n",
       "      <td>-17</td>\n",
       "      <td>61</td>\n",
       "      <td>0</td>\n",
       "      <td>277.0</td>\n",
       "      <td>0.462402</td>\n",
       "      <td>1199.0</td>\n",
       "      <td>599.00</td>\n",
       "      <td>31.0</td>\n",
       "      <td>33.0</td>\n",
       "      <td>2.0</td>\n",
       "    </tr>\n",
       "    <tr>\n",
       "      <th>4</th>\n",
       "      <td>5</td>\n",
       "      <td>5268</td>\n",
       "      <td>34</td>\n",
       "      <td>2015</td>\n",
       "      <td>11</td>\n",
       "      <td>7.863281</td>\n",
       "      <td>4</td>\n",
       "      <td>8</td>\n",
       "      <td>11</td>\n",
       "      <td>20</td>\n",
       "      <td>...</td>\n",
       "      <td>0</td>\n",
       "      <td>0</td>\n",
       "      <td>0</td>\n",
       "      <td>0.0</td>\n",
       "      <td>NaN</td>\n",
       "      <td>3000.0</td>\n",
       "      <td>1431.00</td>\n",
       "      <td>NaN</td>\n",
       "      <td>NaN</td>\n",
       "      <td>NaN</td>\n",
       "    </tr>\n",
       "  </tbody>\n",
       "</table>\n",
       "<p>5 rows × 38 columns</p>\n",
       "</div>"
      ],
      "text/plain": [
       "   shop_id  item_id  date_block_num  year  month  item_price  city  \\\n",
       "0        5     5037              34  2015     11    6.621094     4   \n",
       "1        5     5320              34  2015     11    5.699219     4   \n",
       "2        5     5233              34  2015     11    7.089844     4   \n",
       "3        5     5232              34  2015     11    6.394531     4   \n",
       "4        5     5268              34  2015     11    7.863281     4   \n",
       "\n",
       "   store_form  shop_store_name  item_category_id        ...          \\\n",
       "0           8               11                19        ...           \n",
       "1           8               11                55        ...           \n",
       "2           8               11                19        ...           \n",
       "3           8               11                23        ...           \n",
       "4           8               11                20        ...           \n",
       "\n",
       "   delta_prev_month_cnt_di_2-3  delta_prev_month_cnt_di_3-4  \\\n",
       "0                          -11                           65   \n",
       "1                            0                            0   \n",
       "2                          -70                          113   \n",
       "3                          -17                           61   \n",
       "4                            0                            0   \n",
       "\n",
       "   delta_prev_month_cnt_di_4-5  item_price_std  price_CoefVar  max_price  \\\n",
       "0                          -51           655.0       0.874023     2600.0   \n",
       "1                            0             0.0       0.057648      299.0   \n",
       "2                          -82           282.0       0.235107     1199.0   \n",
       "3                            0           277.0       0.462402     1199.0   \n",
       "4                            0             0.0            NaN     3000.0   \n",
       "\n",
       "   min_price  first_sell_month  last_sell_month  first_last_period  \n",
       "0     749.00              20.0             33.0               13.0  \n",
       "1     150.25               NaN              NaN                NaN  \n",
       "2     599.00              27.0             33.0                6.0  \n",
       "3     599.00              31.0             33.0                2.0  \n",
       "4    1431.00               NaN              NaN                NaN  \n",
       "\n",
       "[5 rows x 38 columns]"
      ]
     },
     "execution_count": 46,
     "metadata": {},
     "output_type": "execute_result"
    }
   ],
   "source": [
    "test.head()"
   ]
  },
  {
   "cell_type": "code",
   "execution_count": 47,
   "metadata": {
    "collapsed": true
   },
   "outputs": [],
   "source": [
    "features = test.columns.tolist()\n",
    "features.remove(\"date_block_num\")"
   ]
  },
  {
   "cell_type": "code",
   "execution_count": 48,
   "metadata": {
    "collapsed": true
   },
   "outputs": [],
   "source": [
    "categorical = ['shop_id', \n",
    "               'item_id', \n",
    "               'city',\n",
    "               'store_form',\n",
    "               'item_category_id',\n",
    "               'first_cate',\n",
    "               'second_cate',\n",
    "               'shop_store_name'\n",
    "              ]"
   ]
  },
  {
   "cell_type": "code",
   "execution_count": 49,
   "metadata": {
    "collapsed": true
   },
   "outputs": [],
   "source": [
    "#train_all.to_csv(save_sub_train_df_name, index=False, header=True)\n",
    "#test.to_csv(save_sub_test_df_name, index=False, header=True)"
   ]
  },
  {
   "cell_type": "markdown",
   "metadata": {},
   "source": [
    "## Light Gradient Boosting Regressor"
   ]
  },
  {
   "cell_type": "markdown",
   "metadata": {},
   "source": [
    "### Function for LGBM"
   ]
  },
  {
   "cell_type": "code",
   "execution_count": 50,
   "metadata": {
    "collapsed": true
   },
   "outputs": [],
   "source": [
    "def TrainValidSplit(df, split_date, test_item_id, test_shop_id):\n",
    "    X_train = df[(df[\"date_block_num\"] <= split_date) &\n",
    "                 (df[\"date_block_num\"] >= 5)]\n",
    "    X_valid = df[(df[\"date_block_num\"] > split_date) &\n",
    "                 (df[\"item_id\"].isin(test_item_id)) &\n",
    "                 (df[\"shop_id\"].isin(test_shop_id))]\n",
    "    y_train = copy.deepcopy(X_train[\"item_cnt_month\"])\n",
    "    y_valid = copy.deepcopy(X_valid[\"item_cnt_month\"])\n",
    "\n",
    "    X_train.drop([\"item_cnt_month\"], axis=1, inplace=True)\n",
    "    X_train.drop([\"date_block_num\"], axis=1, inplace=True)\n",
    "    X_valid.drop([\"item_cnt_month\"], axis=1, inplace=True)\n",
    "    X_valid.drop([\"date_block_num\"], axis=1, inplace=True)\n",
    "\n",
    "    gc.collect()\n",
    "    return X_train, X_valid, y_train, y_valid"
   ]
  },
  {
   "cell_type": "code",
   "execution_count": 51,
   "metadata": {
    "collapsed": true
   },
   "outputs": [],
   "source": [
    "def subData(train_df, test_df):\n",
    "    X_train = copy.deepcopy(train_df)\n",
    "        \n",
    "    y_train = X_train[\"item_cnt_month\"].copy()\n",
    "    X_train.drop([\"item_cnt_month\"], axis=1, inplace=True)\n",
    "    X_train.drop([\"date_block_num\"], axis=1, inplace=True)\n",
    "    test_df.drop([\"date_block_num\"], axis=1, inplace=True)\n",
    "\n",
    "    gc.collect()\n",
    "    return X_train, test_df, y_train"
   ]
  },
  {
   "cell_type": "code",
   "execution_count": 52,
   "metadata": {
    "collapsed": true
   },
   "outputs": [],
   "source": [
    "def GoValid(X_train, X_valid, y_train, y_valid, lgbm_params):\n",
    "    lgtrain = lgb.Dataset(X_train, y_train,\n",
    "                          feature_name=features,\n",
    "                          categorical_feature = categorical)\n",
    "    lgvalid = lgb.Dataset(X_valid, y_valid,\n",
    "                          feature_name=features,\n",
    "                          categorical_feature = categorical)\n",
    "\n",
    "    modelstart = time.time()\n",
    "\n",
    "    lgb_clf = lgb.train(\n",
    "        lgbm_params,\n",
    "        lgtrain,\n",
    "        num_boost_round=10000, # ←as large as possible\n",
    "        feature_name=features,\n",
    "        categorical_feature=categorical,\n",
    "        valid_sets=[lgtrain, lgvalid],\n",
    "        valid_names=[\"train\", \"valid\"],\n",
    "        early_stopping_rounds=50,\n",
    "        verbose_eval=200\n",
    "    )\n",
    "\n",
    "    valid_score = np.sqrt(metrics.mean_squared_error(y_valid, lgb_clf.predict(X_valid)))\n",
    "    print(\"Model Evaluation Stage\")\n",
    "    print('RMSE:', valid_score)\n",
    "    print(\"Model Runtime: %0.2f Minutes\"%( (time.time() - modelstart)/60) )\n",
    "    \n",
    "    f, ax = plt.subplots(figsize=[7, 10])\n",
    "    lgb.plot_importance(lgb_clf, max_num_features=50, ax=ax)\n",
    "    plt.title(\"Light GBM Feature Inportance\")\n",
    "       \n",
    "    return valid_score"
   ]
  },
  {
   "cell_type": "code",
   "execution_count": 53,
   "metadata": {
    "collapsed": true
   },
   "outputs": [],
   "source": [
    "def GoSubTrain(X_train, test_df, y_train, lgbm_params):\n",
    "    lgtrain = lgb.Dataset(X_train, y_train,\n",
    "                          feature_name=features,\n",
    "                          categorical_feature = categorical)\n",
    "    \n",
    "    modelstart = time.time()\n",
    "\n",
    "    lgb_clf = lgb.train(\n",
    "        lgbm_params,\n",
    "        lgtrain,\n",
    "        feature_name=features,\n",
    "        categorical_feature=categorical,\n",
    "        num_boost_round=575, # ← based on the result of valid of early stopping\n",
    "        verbose_eval=200\n",
    "    )\n",
    "    \n",
    "    f, ax = plt.subplots(figsize=[7, 10])\n",
    "    lgb.plot_importance(lgb_clf, max_num_features=50, ax=ax)\n",
    "    plt.title(\"Light GBM Feature Inportance\")\n",
    "    \n",
    "    lgpred = lgb_clf.predict(test)\n",
    "    lgb_clf.save_model(save_model_name)\n",
    "    \n",
    "    return lgpred"
   ]
  },
  {
   "cell_type": "markdown",
   "metadata": {},
   "source": [
    "### Let's Start"
   ]
  },
  {
   "cell_type": "code",
   "execution_count": 54,
   "metadata": {
    "collapsed": true
   },
   "outputs": [],
   "source": [
    "# for valid & sub　 (not for hyperparameter opt)\n",
    "if (not isHyperOpt): # simpleValid\n",
    "    lgbm_params = {\n",
    "        \"task\": \"train\",\n",
    "        \"boosting_type\": \"gbdt\",\n",
    "        \"objective\": \"regression\",\n",
    "        \"metric\": \"rmse\",\n",
    "        #\"max_depth\":15,\n",
    "        \"num_leaves\": 284,\n",
    "        \"min_child_samples\": 9, # 9\n",
    "        \"feature_fraction\": 0.18,\n",
    "        \"bagging_fraction\": 0.18,\n",
    "        \"bagging_freq\": 5,\n",
    "        \"learning_rate\": 0.01,\n",
    "        \"verbose\": 0,\n",
    "        \"seed\":SEED, # random_seed\n",
    "        #\"device_type\":\"gpu\",\n",
    "        #\"max_bin\" : 15\n",
    "    }"
   ]
  },
  {
   "cell_type": "code",
   "execution_count": 55,
   "metadata": {
    "collapsed": true
   },
   "outputs": [],
   "source": [
    "test_item_id = test[\"item_id\"].unique().tolist()\n",
    "test_shop_id = test[\"shop_id\"].unique().tolist()"
   ]
  },
  {
   "cell_type": "code",
   "execution_count": 56,
   "metadata": {},
   "outputs": [
    {
     "name": "stdout",
     "output_type": "stream",
     "text": [
      "Use Trained model And Try Submission\n",
      "Mean Item_Cnt_Month 0.26523076581238675\n",
      "Finished: ../submission/sub_180803_03_savedmodel.csv\n"
     ]
    }
   ],
   "source": [
    "if (not isHyperOpt):\n",
    "    if (isValid): # Validation (not hyperparameter tuning)\n",
    "        valid_score_list = []\n",
    "        print(\"Train Date:\", split_date, \", Valid Date:\", split_date+1)\n",
    "        X_train, X_valid, y_train, y_valid = TrainValidSplit(df=train_all, split_date=split_date, \n",
    "                                                             test_item_id=test_item_id, test_shop_id=test_shop_id)\n",
    "        print(\"valid item_id number: \", X_valid[\"item_id\"].unique().shape[0])\n",
    "        valid_score = GoValid(X_train, X_valid, y_train, y_valid, lgbm_params)\n",
    "        valid_score_list.append(valid_score)\n",
    "\n",
    "        print(\"##################\")\n",
    "        print(\"Mean Valid Score: {0:.5f}\".format(sum(valid_score_list)/len(valid_score_list)))\n",
    "        print(\"##################\")\n",
    "\n",
    "    else: #submission\n",
    "        X_train, test, y_train = subData(train_df=train_all, test_df=test)\n",
    "        \n",
    "        if (not useTrainedModel):\n",
    "            print(\"Try Submission Train\")\n",
    "            lgpred = GoSubTrain(X_train, test, y_train, lgbm_params)\n",
    "        elif (useTrainedModel):\n",
    "            print(\"Use Trained model And Try Submission\")\n",
    "            lgb_clf = lgb.Booster(model_file=save_model_name)\n",
    "            lgpred = lgb_clf.predict(test)\n",
    "\n",
    "        lgsub = pd.DataFrame(lgpred, columns=[\"item_cnt_month\"])\n",
    "        lgsub[\"item_cnt_month\"].clip(0.0, 20.0, inplace=True) # Between 0 and 1\n",
    "        lgsub[\"ID\"] = lgsub.index\n",
    "\n",
    "        print(\"Mean Item_Cnt_Month\", lgsub[\"item_cnt_month\"].mean())\n",
    "        lgsub.to_csv(sub_file_name, index=False, header=True)\n",
    "        print(\"Finished:\", sub_file_name)    "
   ]
  },
  {
   "cell_type": "markdown",
   "metadata": {},
   "source": [
    "### CV"
   ]
  },
  {
   "cell_type": "code",
   "execution_count": 57,
   "metadata": {
    "collapsed": true
   },
   "outputs": [],
   "source": [
    "# Still in the middle of CV\n",
    "cvstart = time.time()\n",
    "max_evals = 100\n",
    "trials = Trials()\n",
    "\n",
    "space = {\n",
    "    #\"learning_rate\": hp.uniform(\"learning_rate\", 0.008, 0.015),\n",
    "    #\"num_leaves\": hp.uniform(\"num_leaves\", 240, 340),\n",
    "    #\"min_child_samples\": hp.uniform(\"min_child_samples\", 6, 12),#hp.loguniform(\"min_child_samples\", 1, 4)\n",
    "    \"feature_fraction\": hp.uniform(\"feature_fraction\", 0.001, 0.25),\n",
    "    \"bagging_fraction\": hp.uniform(\"bagging_fraction\", 0.001, 0.25)\n",
    "}\n",
    "\n",
    "#18.8.2 best\n",
    "#num_boost_round:  190\n",
    "#learning_rate: 0.01252831788816417\n",
    "#num_leaves: 284\n",
    "#min_child_samples: 9\n",
    "\n",
    "#18.8.4 best\n",
    "#num_boost_round:  638\n",
    "#num_leaves: 275\n",
    "#min_child_samples: 9\n",
    "#eature_fraction: 0.16969512755898708\n",
    "#bagging_fraction: 0.1261142310387107"
   ]
  },
  {
   "cell_type": "code",
   "execution_count": 58,
   "metadata": {
    "collapsed": true
   },
   "outputs": [],
   "source": [
    "def get_lgbm_params(space):\n",
    "    lgbm_params = dict()\n",
    "    lgbm_params[\"task\"] = \"train\"\n",
    "    lgbm_params[\"boosting_type\"] = \"gbdt\"\n",
    "    lgbm_params[\"objective\"] = \"regression\"\n",
    "    lgbm_params[\"metric\"] = \"rmse\"\n",
    "    lgbm_params[\"num_leaves\"] = int(space[\"num_leaves\"]) if \"num_leaves\" in space else 280\n",
    "    lgbm_params[\"min_child_samples\"] = int(space[\"min_child_samples\"]) if \"min_child_samples\" in space else 9 \n",
    "    lgbm_params[\"feature_fraction\"] = space[\"feature_fraction\"] if \"feature_fraction\" in space else 1.0\n",
    "    lgbm_params[\"bagging_fraction\"] = space[\"bagging_fraction\"] if \"bagging_fraction\" in space else 1.0\n",
    "    lgbm_params[\"bagging_freq\"] = 5\n",
    "    lgbm_params[\"learning_rate\"] = space[\"learning_rate\"] if \"learning_rate\" in space else 0.008\n",
    "    lgbm_params[\"verbose\"] = 0\n",
    "    lgbm_params[\"seed\"] = SEED\n",
    "     \n",
    "    return lgbm_params"
   ]
  },
  {
   "cell_type": "code",
   "execution_count": 59,
   "metadata": {
    "collapsed": true
   },
   "outputs": [],
   "source": [
    "obj_call_count = 0\n",
    "cur_best_loss = np.inf\n",
    "cur_best_iteration = 0\n",
    "\n",
    "def objective(space):\n",
    "    global obj_call_count, cur_best_loss, cur_best_iteration\n",
    "    \n",
    "    obj_call_count += 1\n",
    "    print(\"\\nLGBM objective call #{} cur_best_loss={:7.5f}\".format(obj_call_count, cur_best_loss))\n",
    "       \n",
    "    X_train, X_valid, y_train, y_valid = TrainValidSplit(df=train_all, split_date=split_date,test_item_id=test_item_id, test_shop_id=test_shop_id)\n",
    "    lgtrain = lgb.Dataset(X_train, y_train,feature_name=features,categorical_feature = categorical)\n",
    "    lgvalid = lgb.Dataset(X_valid, y_valid,feature_name=features,categorical_feature = categorical)\n",
    "    \n",
    "    lgbm_params = get_lgbm_params(space)\n",
    "    \n",
    "    #sorted_params = sorted(space.iteritems(), key=lambda z: z[0])\n",
    "    #params_str = str.join(\" \", [\"{}={}\".format(k, v) for k, v in sorted_params])\n",
    "    #print(\"Params: {}\".format(params_str))\n",
    "    #print(\"num_leaves: {}, min_child_samples: {}\".format(lgbm_params[\"num_leaves\"], lgbm_params[\"min_child_samples\"]))\n",
    "    for k in space.keys():\n",
    "        print(\"{}: {}\".format(k,lgbm_params[k]))\n",
    "    \n",
    "    lgb_clf = lgb.train(\n",
    "        lgbm_params,\n",
    "        lgtrain,\n",
    "        num_boost_round=10000, # ←As large as possible\n",
    "        feature_name=features,\n",
    "        categorical_feature=categorical,\n",
    "        valid_sets=[lgtrain, lgvalid],\n",
    "        valid_names=[\"train\", \"valid\"],\n",
    "        early_stopping_rounds=50,\n",
    "        verbose_eval=10000\n",
    "    )\n",
    "    \n",
    "    #nb_trees = lgb_clf.best_iteration\n",
    "    #val_loss = lgb_clf.best_score\n",
    "    #print('nb_trees={:7.5f}, train rmse={:7.5f}, valid rmse={:7.5f}'.format(nb_trees,val_loss[\"train\"][\"rmse\"],val_loss[\"valid\"][\"rmse\"]))\n",
    "\n",
    "    valid_score = np.sqrt(metrics.mean_squared_error(y_valid, lgb_clf.predict(X_valid)))\n",
    "    if valid_score < cur_best_loss:\n",
    "        cur_best_loss = valid_score\n",
    "        cur_best_iteration = lgb_clf.best_iteration\n",
    "    gc.collect()\n",
    "    \n",
    "    return valid_score"
   ]
  },
  {
   "cell_type": "code",
   "execution_count": 60,
   "metadata": {
    "collapsed": true
   },
   "outputs": [],
   "source": [
    "if (isHyperOpt):\n",
    "    best = fmin(fn=objective,\n",
    "                space=space,\n",
    "                algo=tpe.suggest,\n",
    "                max_evals=max_evals,\n",
    "                trials=trials,\n",
    "                verbose=1)\n",
    "    \n",
    "    print(\"*****Best Parameters******\")\n",
    "    int_group = [\"num_leaves\", \"min_child_samples\"]\n",
    "    print(\"num_boost_round: \", cur_best_iteration)\n",
    "    for k in space.keys():\n",
    "        if k in int_group:\n",
    "            print(\"{}: {}\".format(k,int(best[k])))\n",
    "        else:\n",
    "            print(\"{}: {}\".format(k,best[k]))"
   ]
  },
  {
   "cell_type": "code",
   "execution_count": 61,
   "metadata": {
    "collapsed": true
   },
   "outputs": [],
   "source": [
    "if (isHyperOpt):\n",
    "    print(\"*****Best Parameters (In case of interruption)******\")\n",
    "    int_group = [\"num_leaves\", \"min_child_samples\"]\n",
    "    print(\"num_boost_round: \", cur_best_iteration)\n",
    "    for k in space.keys():\n",
    "        objective_history = trials.losses()\n",
    "        min_loss = min(objective_history[0:-1])\n",
    "        min_index = objective_history.index(min_loss)\n",
    "\n",
    "        k_history = np.ravel([t[\"misc\"][\"vals\"][k] for t in trials.trials[0:-1]])\n",
    "        best_k = k_history[min_index]\n",
    "\n",
    "        if k in int_group:\n",
    "            print(\"{}: {}\".format(k,int(best_k)))\n",
    "        else:\n",
    "            print(\"{}: {}\".format(k,best_k))"
   ]
  },
  {
   "cell_type": "code",
   "execution_count": 62,
   "metadata": {
    "collapsed": true
   },
   "outputs": [],
   "source": [
    "###http://blog.hassaku-labs.com/post/hyperopt/###\n",
    "#from matplotlib.ticker import *\n",
    "\n",
    "def get_figure_history(x):\n",
    "    \n",
    "    n = len(trials.trials[0:-1])\n",
    "    \n",
    "    x_history = np.ravel([t[\"misc\"][\"vals\"][x] for t in trials.trials[0:-1]])\n",
    "    objective_history = trials.losses()\n",
    "    \n",
    "    fig = plt.figure(figsize=(16, 8))\n",
    "    cm = plt.get_cmap(\"jet\")\n",
    "    \n",
    "    PLOT_NUM = 4\n",
    "    \n",
    "    for i, hist_num in enumerate(np.linspace(int(n/PLOT_NUM), n, PLOT_NUM)):\n",
    "        cmap_cycle = [cm(1.*h/(hist_num-1)) for h in range(int(hist_num) - 1)]\n",
    "        \n",
    "        ax1 = plt.subplot(2, PLOT_NUM, i+1)\n",
    "        ax1.set_color_cycle(cmap_cycle)\n",
    "        ax1.plot(alpha=0.2)#np.arange(-30, 30, 0.1), function(np.arange(-30, 30, 0.1)), alpha=0.2)\n",
    "        for j in range(int(hist_num) ):\n",
    "            ax1.plot(x_history[j], objective_history[j], \".\")\n",
    "        ax1.set_title(\"times: {times}\".format(times=int(hist_num)))\n",
    "        #ax1.set_ylim([np.min(objective_history)*0.95, np.max(objective_history)*1.05])\n",
    "        ax1.set_xlim([np.min(x_history)*0.95, np.max(x_history)*1.05])\n",
    "        if i == 0:\n",
    "            ax1.set_ylabel(\"valid score\")\n",
    "        ax1.yaxis.set_major_locator(MultipleLocator(0.05)) \n",
    "            \n",
    "        ax2 = plt.subplot(2, PLOT_NUM, PLOT_NUM+i+1)\n",
    "        ax2.hist(x_history[:int(hist_num)], bins=50)\n",
    "        if i == 0:\n",
    "            ax2.set_ylabel(\"histogram of \"+x)\n",
    "        ax2.set_xlabel(x)\n",
    "        ax2.set_xlim([np.min(x_history)*0.95, np.max(x_history)*1.05])"
   ]
  },
  {
   "cell_type": "code",
   "execution_count": 63,
   "metadata": {
    "collapsed": true
   },
   "outputs": [],
   "source": [
    "if (isHyperOpt):\n",
    "    for k in space.keys():\n",
    "        get_figure_history(k)\n",
    "    print(\"CV Runtime: %0.2f Minutes\"%( (time.time() - cvstart)/60) )"
   ]
  },
  {
   "cell_type": "code",
   "execution_count": 64,
   "metadata": {},
   "outputs": [
    {
     "name": "stdout",
     "output_type": "stream",
     "text": [
      "Notebook Runtime: 3.07 Minutes\n"
     ]
    }
   ],
   "source": [
    "print(\"Notebook Runtime: %0.2f Minutes\"%( (time.time() - notebookstart)/60) )"
   ]
  },
  {
   "cell_type": "code",
   "execution_count": null,
   "metadata": {
    "collapsed": true
   },
   "outputs": [],
   "source": []
  }
 ],
 "metadata": {
  "kernelspec": {
   "display_name": "Python 3",
   "language": "python",
   "name": "python3"
  },
  "language_info": {
   "codemirror_mode": {
    "name": "ipython",
    "version": 3
   },
   "file_extension": ".py",
   "mimetype": "text/x-python",
   "name": "python",
   "nbconvert_exporter": "python",
   "pygments_lexer": "ipython3",
   "version": "3.6.6"
  },
  "toc": {
   "base_numbering": 1,
   "nav_menu": {},
   "number_sections": true,
   "sideBar": true,
   "skip_h1_title": false,
   "title_cell": "Table of Contents",
   "title_sidebar": "Contents",
   "toc_cell": false,
   "toc_position": {},
   "toc_section_display": true,
   "toc_window_display": false
  },
  "varInspector": {
   "cols": {
    "lenName": 16,
    "lenType": 16,
    "lenVar": 40
   },
   "kernels_config": {
    "python": {
     "delete_cmd_postfix": "",
     "delete_cmd_prefix": "del ",
     "library": "var_list.py",
     "varRefreshCmd": "print(var_dic_list())"
    },
    "r": {
     "delete_cmd_postfix": ") ",
     "delete_cmd_prefix": "rm(",
     "library": "var_list.r",
     "varRefreshCmd": "cat(var_dic_list()) "
    }
   },
   "types_to_exclude": [
    "module",
    "function",
    "builtin_function_or_method",
    "instance",
    "_Feature"
   ],
   "window_display": false
  }
 },
 "nbformat": 4,
 "nbformat_minor": 2
}
